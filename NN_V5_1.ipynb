{
 "cells": [
  {
   "cell_type": "code",
   "execution_count": 1,
   "metadata": {},
   "outputs": [],
   "source": [
    "import numpy as np\n",
    "import sys\n",
    "from numpy.core.fromnumeric import shape, size\n",
    "from random import random, randint\n",
    "import matplotlib.pyplot as plt\n",
    "from keras.datasets import mnist\n",
    "from sklearn.metrics import accuracy_score\n",
    "from sklearn.datasets import load_iris\n",
    "from sklearn.model_selection import train_test_split\n"
   ]
  },
  {
   "cell_type": "code",
   "execution_count": 2,
   "metadata": {},
   "outputs": [
    {
     "data": {
      "text/plain": [
       "-752"
      ]
     },
     "execution_count": 2,
     "metadata": {},
     "output_type": "execute_result"
    }
   ],
   "source": [
    "randint(-1000,1)"
   ]
  },
  {
   "cell_type": "code",
   "execution_count": 74,
   "metadata": {},
   "outputs": [],
   "source": [
    "def sigmoid(x):\n",
    "  return 1 / (1 + np.exp(-x))\n",
    "\n",
    "def Loss(Y, Y_predicted):\n",
    "    return(sum(np.square(Y - Y_predicted))/Y.size).sum()\n",
    "\n",
    "def rand(row, column):\n",
    "    returned = np.empty((row, column))\n",
    "    for j in range(row):\n",
    "        rando=[]\n",
    "        for i in range(column):\n",
    "            rando.append(random())\n",
    "            i+=1\n",
    "        returned[j] = rando\n",
    "    print(\"He\",returned) \n",
    "    return returned\n",
    "\n",
    "\n",
    "def Normalize(X):\n",
    "    return((X-X.min())/(X.max()-X.min()))\n",
    "\n",
    "def Binarize(X):\n",
    "    X [X < 100] = 0\n",
    "    X [X >= 100] = 1       \n",
    "    return X\n",
    "\n",
    "def calculate_accuracy(predicted_y, y):\n",
    "    guessWrong = 0\n",
    "    if(len(predicted_y) == len(y)):\n",
    "        ind = 0\n",
    "        for i in predicted_y:\n",
    "            if(i != y[ind]):\n",
    "                guessWrong = guessWrong + 1\n",
    "            ind+=1\n",
    "        acc = ( (len(predicted_y)- guessWrong) / len(predicted_y))\n",
    "        return (acc*100)\n",
    "    return 0"
   ]
  },
  {
   "cell_type": "code",
   "execution_count": 38,
   "metadata": {},
   "outputs": [],
   "source": [
    "class Layer:\n",
    "    nerweight =0\n",
    "    inputs = 0\n",
    "    outputs=0\n",
    "    delta=0\n",
    "    def __init__(self, neuronNumber,length):\n",
    "        self.nerweight =rand(neuronNumber, length)\n",
    "        #self.bais = rand(neuronNumber , 1)\n",
    "\n",
    "    def feedForward(self, inputs):\n",
    "        self.outputs= []\n",
    "        self.inputs = inputs\n",
    "        # print (\"preFedd\", self.outputs, inputs, self.nerweight)\n",
    "        self.outputs  = sigmoid(np.dot(np.array(self.nerweight), self.inputs))\n",
    "        # print (\"Fedd\", self.outputs)\n",
    "        return self.outputs \n",
    "\n",
    "    \n",
    "    def fit(self, eta, target, outj, sumDelta):\n",
    "        if(size(sumDelta)==0):\n",
    "            self.delta=(target-self.outputs)*self.outputs*(1-self.outputs)\n",
    "            dw = eta*np.transpose([self.delta])*np.transpose(outj)\n",
    "            self.nerweight = self.nerweight + dw \n",
    "            return np.dot(self.delta, self.nerweight)\n",
    "        else:\n",
    "            self.delta=sumDelta*self.outputs*(1-self.outputs)\n",
    "            dw = eta*self.delta*np.transpose([outj])\n",
    "            self.nerweight = self.nerweight + dw.reshape(len(self.nerweight), len(dw))\n",
    "            return np.dot(self.delta, self.nerweight)\n",
    "            "
   ]
  },
  {
   "cell_type": "code",
   "execution_count": 5,
   "metadata": {},
   "outputs": [],
   "source": [
    "def getMax(ma):\n",
    "    for j in range(shape(ma)[0]):\n",
    "        cu = ma[j]\n",
    "        ar=np.where(cu == np.amax(cu))\n",
    "        for i in range (len(cu)):\n",
    "            if(i == ar[0]):\n",
    "                cu[i]=1\n",
    "            else:\n",
    "                cu[i]=0\n",
    "        ma[j]= cu\n",
    "    return ma"
   ]
  },
  {
   "cell_type": "code",
   "execution_count": 6,
   "metadata": {},
   "outputs": [],
   "source": [
    "def accuracy_here(predicted_y, y):\n",
    "    guess_wrong=0\n",
    "    for i in range(len(predicted_y)):\n",
    "        if(not np.array_equiv(predicted_y[i],y[i])):\n",
    "            guess_wrong+=1\n",
    "    acc = ((len(predicted_y)- guess_wrong) / len(predicted_y))\n",
    "    return (acc*100)"
   ]
  },
  {
   "cell_type": "code",
   "execution_count": 86,
   "metadata": {},
   "outputs": [],
   "source": [
    "class Network:\n",
    "    layers = 0\n",
    "    layernum=0\n",
    "    length=0\n",
    "    orin=0\n",
    "    inputs =0\n",
    "    target =0\n",
    "    def __init__(self, NumNeuron, inputs, target):\n",
    "        self.layers = []\n",
    "        self.orin = inputs/100\n",
    "        self.inputs =inputs\n",
    "        self.target = target\n",
    "        length = shape(inputs)[1]\n",
    "        layer = Layer(4, length)  \n",
    "        length =4\n",
    "        self.layers.append(layer)\n",
    "        for i in range (len(NumNeuron)):\n",
    "            if(NumNeuron[i]<4):\n",
    "                NumNeuron[i] = 4\n",
    "            layer = Layer(NumNeuron[i], length)  \n",
    "            length = NumNeuron[i]   \n",
    "            self.layers.append(layer)\n",
    "        layer = Layer(shape(target)[1], length)  \n",
    "        self.layers.append(layer)\n",
    "\n",
    "    def feedForward(self, datafeeded, data):\n",
    "        current = data[datafeeded]\n",
    "        for i in range(len(self.layers)):\n",
    "            current= self.layers[i].feedForward(current)\n",
    "        return current\n",
    "    \n",
    "    def fit(self, eta, leranRate):\n",
    "        for j in range(leranRate):\n",
    "            now = np.empty((shape(self.target)))\n",
    "            for k in range((shape(self.orin)[0])):\n",
    "                now[k] =self.feedForward(k, self.orin)\n",
    "                sumdelta = []\n",
    "                for i in range(len(self.layers)-1, 0, -1):\n",
    "                    sumdelta =self.layers[i].fit(eta, self.target[k], self.layers[i-1].outputs, sumdelta)\n",
    "                sumdelta =self.layers[0].fit(eta, self.target[k], self.orin[k], sumdelta)\n",
    "            print (accuracy_here(getMax(now), train_y))\n"
   ]
  },
  {
   "cell_type": "code",
   "execution_count": 8,
   "metadata": {},
   "outputs": [],
   "source": [
    "def centroid(X):\n",
    "    M00=np.sum(X.sum(axis=1))\n",
    "    M10 =np.array([])\n",
    "    M01 =np.array([])\n",
    "    for i in range(X.shape[0]):\n",
    "        M10= np.append(M10, (X[i].sum(axis=0)*(i+1)))\n",
    "        \n",
    "    for i in range(X.shape[1]):\n",
    "        M01 = np.append(M01,(X[:,i].sum(axis=0)*(i+1)))\n",
    "    M10 = np.sum(M10)\n",
    "    M01 = np.sum(M01)\n",
    "    if(M00==0):\n",
    "        Xc= 0\n",
    "        Yc= 0\n",
    "    else:\n",
    "        Xc = M10/M00\n",
    "        Yc = M01/M00\n",
    "    return np.array([Xc, Yc])"
   ]
  },
  {
   "cell_type": "code",
   "execution_count": 9,
   "metadata": {},
   "outputs": [],
   "source": [
    "def FeatureImage(X):\n",
    "    vector=np.array([])\n",
    "    for i in range(2):\n",
    "        for j in range(4):              #0-7, 0--14  \n",
    "            vector= np.append(vector, centroid(X[j*7:((j+1)*7) ,i*14:((i+1)*14)])) \n",
    "    return vector"
   ]
  },
  {
   "cell_type": "code",
   "execution_count": 10,
   "metadata": {},
   "outputs": [],
   "source": [
    "def plot_digit(X, y, idx):\n",
    "    plt.imshow(X[idx], cmap='Greys', interpolation='nearest')\n",
    "    plt.title('true label: %d' % y[idx])\n",
    "    plt.show()"
   ]
  },
  {
   "cell_type": "code",
   "execution_count": 11,
   "metadata": {},
   "outputs": [
    {
     "data": {
      "text/plain": [
       "(60000, 28, 28)"
      ]
     },
     "execution_count": 11,
     "metadata": {},
     "output_type": "execute_result"
    }
   ],
   "source": [
    "(train_X, train_y), (test_X, test_y) = mnist.load_data()\n",
    "train_X.shape"
   ]
  },
  {
   "cell_type": "code",
   "execution_count": 12,
   "metadata": {},
   "outputs": [
    {
     "ename": "NameError",
     "evalue": "name 'vec' is not defined",
     "output_type": "error",
     "traceback": [
      "\u001b[1;31m---------------------------------------------------------------------------\u001b[0m",
      "\u001b[1;31mNameError\u001b[0m                                 Traceback (most recent call last)",
      "\u001b[1;32mC:\\Users\\COMPUS~1\\AppData\\Local\\Temp/ipykernel_1560/1600854173.py\u001b[0m in \u001b[0;36m<module>\u001b[1;34m\u001b[0m\n\u001b[1;32m----> 1\u001b[1;33m \u001b[0mvec\u001b[0m\u001b[1;33m[\u001b[0m\u001b[1;36m0\u001b[0m\u001b[1;33m]\u001b[0m\u001b[1;33m\u001b[0m\u001b[1;33m\u001b[0m\u001b[0m\n\u001b[0m",
      "\u001b[1;31mNameError\u001b[0m: name 'vec' is not defined"
     ]
    }
   ],
   "source": [
    "vec[0]"
   ]
  },
  {
   "cell_type": "code",
   "execution_count": null,
   "metadata": {},
   "outputs": [],
   "source": [
    "train_X =Binarize(train_X)\n",
    "test_X = Binarize(test_X)"
   ]
  },
  {
   "cell_type": "code",
   "execution_count": 13,
   "metadata": {},
   "outputs": [
    {
     "data": {
      "text/plain": [
       "(960000,)"
      ]
     },
     "execution_count": 13,
     "metadata": {},
     "output_type": "execute_result"
    }
   ],
   "source": [
    "vec = np.array([])\n",
    "for i in range(60000):\n",
    "    vec = np.append(vec, FeatureImage(train_X[i]))\n",
    "vec.shape"
   ]
  },
  {
   "cell_type": "code",
   "execution_count": 14,
   "metadata": {},
   "outputs": [
    {
     "data": {
      "text/plain": [
       "(60000, 16)"
      ]
     },
     "execution_count": 14,
     "metadata": {},
     "output_type": "execute_result"
    }
   ],
   "source": [
    "vec =vec.reshape(60000, 16)\n",
    "vec.shape"
   ]
  },
  {
   "cell_type": "code",
   "execution_count": 15,
   "metadata": {},
   "outputs": [
    {
     "name": "stdout",
     "output_type": "stream",
     "text": [
      "(160000,)\n",
      "(10000, 16)\n"
     ]
    }
   ],
   "source": [
    "vecTest = np.array([])\n",
    "for i in range(10000):\n",
    "    vecTest = np.append(vecTest, FeatureImage(test_X[i]))\n",
    "print(vecTest.shape)\n",
    "vecTest =vecTest.reshape(10000, 16)\n",
    "print(vecTest.shape)"
   ]
  },
  {
   "cell_type": "code",
   "execution_count": 16,
   "metadata": {},
   "outputs": [],
   "source": [
    "def fun (num):\n",
    "    n = np.empty((len(num), 10))\n",
    "    for i in range (len(num)):\n",
    "        re = np.zeros((1 , 10))\n",
    "        re[:,num[i]] = 1\n",
    "        n[i] =re\n",
    "    return n"
   ]
  },
  {
   "cell_type": "code",
   "execution_count": 17,
   "metadata": {},
   "outputs": [],
   "source": [
    "test_y = fun(test_y)\n"
   ]
  },
  {
   "cell_type": "code",
   "execution_count": 18,
   "metadata": {},
   "outputs": [
    {
     "data": {
      "text/plain": [
       "array([ 6.97229551, 12.6055409 ,  2.92178018, 12.10367498,  6.23522727,\n",
       "       13.36363636,  2.60348032,  9.98800473,  6.62568701,  5.63812554,\n",
       "        2.53328895,  2.93608522,  4.24870541,  3.6051496 ,  1.14285714,\n",
       "        1.60192616])"
      ]
     },
     "execution_count": 18,
     "metadata": {},
     "output_type": "execute_result"
    }
   ],
   "source": [
    "vec[0]"
   ]
  },
  {
   "cell_type": "code",
   "execution_count": 19,
   "metadata": {},
   "outputs": [],
   "source": [
    "train_y =fun (train_y)"
   ]
  },
  {
   "cell_type": "code",
   "execution_count": 20,
   "metadata": {},
   "outputs": [
    {
     "data": {
      "text/plain": [
       "array([ 6.97229551, 12.6055409 ,  2.92178018, 12.10367498,  6.23522727,\n",
       "       13.36363636,  2.60348032,  9.98800473,  6.62568701,  5.63812554,\n",
       "        2.53328895,  2.93608522,  4.24870541,  3.6051496 ,  1.14285714,\n",
       "        1.60192616])"
      ]
     },
     "execution_count": 20,
     "metadata": {},
     "output_type": "execute_result"
    }
   ],
   "source": [
    "vec[0]"
   ]
  },
  {
   "cell_type": "code",
   "execution_count": 55,
   "metadata": {},
   "outputs": [],
   "source": [
    "mis3 = Network([2, 35,6,15,2], vec[0:1000], train_y[0:1000])"
   ]
  },
  {
   "cell_type": "code",
   "execution_count": 22,
   "metadata": {},
   "outputs": [
    {
     "data": {
      "text/plain": [
       "(60000, 10)"
      ]
     },
     "execution_count": 22,
     "metadata": {},
     "output_type": "execute_result"
    }
   ],
   "source": [
    "shape(train_y)"
   ]
  },
  {
   "cell_type": "code",
   "execution_count": 23,
   "metadata": {},
   "outputs": [
    {
     "data": {
      "text/plain": [
       "array([[[0.61145074, 0.60828428]]])"
      ]
     },
     "execution_count": 23,
     "metadata": {},
     "output_type": "execute_result"
    }
   ],
   "source": [
    "m = np.array( [ 7.  ,       13.,          3.,         12.12,        6.75,       13.25,\n",
    "  2.69230769,  9.96153846,  6.5625 ,     5.6875,      3. ,         2.5,\n",
    "  4.20689655,  3.62068966,  1.  ,        1.5       ])\n",
    "\n",
    "mm = np.array([[[[4.77431391e-01, 1.04499075e-01, 3.88390791e-02, 4.86546162e-01,\n",
    "  7.04942153e-01, 4.52568046e-01, 3.92915692e-01, 5.44536576e-01,\n",
    "  8.81941246e-01, 4.60136774e-01, 5.34504601e-01, 8.65767106e-01,\n",
    "  1.90331802e-01, 5.81820606e-01, 8.68753925e-01, 9.61046061e-01],\n",
    " [3.08960574e-01, 8.90150401e-01, 2.91677230e-02, 6.87794298e-01,\n",
    "  3.08562704e-01, 3.32284070e-01, 5.77803042e-04, 6.94693826e-01,\n",
    "  2.74574786e-01, 6.27544917e-02, 9.47873903e-01, 1.95163716e-01,\n",
    "  4.70561663e-01, 7.84679191e-02, 4.33621294e-01, 1.71554074e-01]]]])\n",
    "\n",
    "sigmoid(np.dot(np.array(mm), np.array(m/100)))"
   ]
  },
  {
   "cell_type": "code",
   "execution_count": null,
   "metadata": {},
   "outputs": [
    {
     "data": {
      "text/plain": [
       "3.3420197369999998"
      ]
     },
     "execution_count": 133,
     "metadata": {},
     "output_type": "execute_result"
    }
   ],
   "source": [
    "4.77431391e-01*7"
   ]
  },
  {
   "cell_type": "code",
   "execution_count": 70,
   "metadata": {},
   "outputs": [
    {
     "name": "stdout",
     "output_type": "stream",
     "text": [
      "10.9\n",
      "10.9\n",
      "10.9\n",
      "10.9\n",
      "10.9\n",
      "10.9\n",
      "10.9\n",
      "10.9\n",
      "10.9\n",
      "10.9\n",
      "10.9\n",
      "10.9\n",
      "10.9\n",
      "10.9\n",
      "10.9\n",
      "10.9\n",
      "10.9\n",
      "10.9\n",
      "10.9\n",
      "10.9\n",
      "10.9\n",
      "10.9\n",
      "10.9\n",
      "10.9\n",
      "10.9\n",
      "10.9\n",
      "10.9\n",
      "10.9\n",
      "10.9\n",
      "10.9\n",
      "10.9\n",
      "10.9\n",
      "10.9\n",
      "10.9\n",
      "10.9\n",
      "10.9\n",
      "10.9\n",
      "10.9\n",
      "10.9\n",
      "10.9\n",
      "10.9\n",
      "10.9\n",
      "10.9\n",
      "10.9\n",
      "10.9\n",
      "10.9\n",
      "10.9\n",
      "10.9\n",
      "10.9\n",
      "10.9\n"
     ]
    }
   ],
   "source": [
    "mis3.fit(0.01, 50)\n"
   ]
  },
  {
   "cell_type": "code",
   "execution_count": 71,
   "metadata": {},
   "outputs": [
    {
     "name": "stdout",
     "output_type": "stream",
     "text": [
      "10.5\n",
      "11.0\n",
      "10.7\n",
      "11.200000000000001\n",
      "11.200000000000001\n",
      "11.1\n",
      "11.1\n",
      "11.1\n",
      "11.1\n",
      "11.1\n",
      "11.1\n",
      "11.1\n",
      "11.1\n",
      "11.1\n",
      "11.1\n",
      "11.1\n",
      "11.1\n",
      "11.1\n",
      "11.1\n",
      "11.1\n",
      "11.1\n",
      "11.1\n",
      "11.1\n",
      "11.1\n",
      "11.1\n"
     ]
    }
   ],
   "source": [
    "mis3.fit(0.02, 25)\n"
   ]
  },
  {
   "cell_type": "code",
   "execution_count": 72,
   "metadata": {},
   "outputs": [
    {
     "name": "stdout",
     "output_type": "stream",
     "text": [
      "9.700000000000001\n",
      "9.700000000000001\n",
      "9.700000000000001\n",
      "9.700000000000001\n",
      "9.700000000000001\n",
      "9.700000000000001\n",
      "9.700000000000001\n",
      "9.700000000000001\n",
      "9.700000000000001\n",
      "9.700000000000001\n",
      "9.700000000000001\n",
      "9.700000000000001\n",
      "9.700000000000001\n",
      "9.700000000000001\n",
      "9.700000000000001\n",
      "9.700000000000001\n",
      "9.700000000000001\n",
      "9.700000000000001\n",
      "9.700000000000001\n",
      "9.700000000000001\n"
     ]
    }
   ],
   "source": [
    "mis3.fit(3, 20)\n"
   ]
  },
  {
   "cell_type": "markdown",
   "metadata": {},
   "source": [
    "11.200000000000001  --> 1000  --> 0.01 -->100"
   ]
  },
  {
   "cell_type": "code",
   "execution_count": 64,
   "metadata": {},
   "outputs": [],
   "source": [
    "preY = np.empty((shape(test_y)))"
   ]
  },
  {
   "cell_type": "code",
   "execution_count": 65,
   "metadata": {},
   "outputs": [],
   "source": [
    "for i in range(len(test_y)):\n",
    "    preY[i]=mis3.feedForward(i, vecTest)\n"
   ]
  },
  {
   "cell_type": "code",
   "execution_count": 90,
   "metadata": {},
   "outputs": [
    {
     "name": "stdout",
     "output_type": "stream",
     "text": [
      "He [[0.28555906 0.56913656 0.56568328 0.54377316 0.7559556  0.33664438\n",
      "  0.10340732 0.7648233  0.99068753 0.1100814  0.29965395 0.84589884\n",
      "  0.05037755 0.30633048 0.39417435 0.04030266]\n",
      " [0.59616651 0.21160469 0.26377856 0.42344388 0.77739701 0.71557521\n",
      "  0.92936855 0.23828593 0.39404311 0.77087659 0.63463955 0.38236958\n",
      "  0.55931395 0.32358541 0.58745277 0.12541496]\n",
      " [0.99119782 0.47819255 0.16367875 0.75505107 0.40374841 0.79211952\n",
      "  0.4193488  0.73080799 0.30409823 0.42767877 0.5327048  0.34045518\n",
      "  0.90816001 0.46744367 0.94725444 0.64150044]\n",
      " [0.28882353 0.87966157 0.16177526 0.57551552 0.53195124 0.82849354\n",
      "  0.95768472 0.32361299 0.04564711 0.60287946 0.23777434 0.48048853\n",
      "  0.52751123 0.43010201 0.92173635 0.00901497]]\n",
      "He [[0.92090732 0.73125516 0.6227915  0.69278729]\n",
      " [0.06160105 0.0150253  0.32332769 0.74627375]\n",
      " [0.32336095 0.27681919 0.54440973 0.48152213]\n",
      " [0.11142851 0.803625   0.56675866 0.61179549]\n",
      " [0.77345244 0.36331994 0.6406727  0.14358586]\n",
      " [0.34732161 0.97832626 0.51624621 0.55051072]]\n",
      "He [[0.85257486 0.60986955 0.34778812 0.77348742 0.7166914  0.58110621]\n",
      " [0.03052936 0.2694672  0.04297619 0.4658916  0.16094605 0.35119946]\n",
      " [0.8151002  0.85129884 0.71970342 0.00891872 0.49837054 0.71101748]\n",
      " [0.77139163 0.31921183 0.561255   0.16904345 0.48844848 0.28581344]\n",
      " [0.84315132 0.44384728 0.43588746 0.09440411 0.12996838 0.87376708]\n",
      " [0.5404486  0.01277552 0.71909998 0.93773468 0.24137579 0.12129856]\n",
      " [0.25221636 0.81639584 0.72305233 0.40121236 0.50585083 0.72211726]\n",
      " [0.60660973 0.69262816 0.8549094  0.61864061 0.86090646 0.32125361]\n",
      " [0.99776756 0.81207085 0.21204722 0.85086017 0.21140839 0.6396168 ]\n",
      " [0.02709936 0.23045162 0.40132821 0.20382769 0.52965778 0.49227327]]\n"
     ]
    }
   ],
   "source": [
    "mis = Network([6], vec[0:1], train_y[0:1])"
   ]
  },
  {
   "cell_type": "code",
   "execution_count": 96,
   "metadata": {},
   "outputs": [
    {
     "name": "stdout",
     "output_type": "stream",
     "text": [
      "He [[9.47394494e-01 7.35351586e-02 2.21061709e-01 4.06996763e-01\n",
      "  4.18236040e-01 3.20925923e-01 2.22550541e-01 7.03589272e-01\n",
      "  4.40841427e-01 8.03594517e-01 2.70882066e-01 6.24601903e-01\n",
      "  2.53961886e-01 7.08960111e-01 5.36880358e-01 7.95370904e-01]\n",
      " [9.87755878e-01 9.31041923e-01 5.18618644e-01 7.90564408e-01\n",
      "  3.28333389e-01 3.71945374e-01 7.84846087e-01 3.33609683e-04\n",
      "  3.95496828e-01 2.54543886e-01 4.32408943e-01 5.20939865e-01\n",
      "  8.35658640e-01 9.68934380e-01 9.51361673e-01 7.48630710e-01]\n",
      " [6.18435231e-01 6.44335593e-01 5.79202342e-01 4.15921743e-01\n",
      "  4.95461293e-01 2.73077966e-01 8.63005901e-03 9.19615141e-01\n",
      "  3.53105298e-01 2.76109938e-01 2.88469346e-01 1.48738941e-01\n",
      "  8.86834825e-01 7.23472006e-01 4.55542809e-01 7.11212667e-01]\n",
      " [1.79121133e-01 4.80579006e-01 4.17160659e-01 4.78595112e-01\n",
      "  6.07165595e-01 7.98370811e-01 8.98608606e-01 2.97295095e-01\n",
      "  3.28223690e-01 3.26203672e-01 9.23950148e-01 8.65194019e-01\n",
      "  2.78938053e-01 2.28977815e-01 3.04169191e-01 8.31696775e-01]]\n",
      "He [[0.91927    0.08600205 0.05630824 0.4233307 ]\n",
      " [0.05961654 0.52330831 0.54202153 0.65542626]\n",
      " [0.97766451 0.80882616 0.01644715 0.40754645]\n",
      " [0.00582498 0.01089709 0.95449172 0.54162001]\n",
      " [0.26830666 0.68038448 0.61162622 0.58126923]\n",
      " [0.93761907 0.68472541 0.71518663 0.47335818]\n",
      " [0.72946837 0.54325359 0.71104899 0.2448246 ]\n",
      " [0.08628908 0.16689636 0.48452886 0.94807559]\n",
      " [0.11569866 0.47707607 0.36133511 0.6100078 ]\n",
      " [0.29636378 0.9148833  0.2051155  0.10847196]]\n"
     ]
    }
   ],
   "source": [
    "mis = Network([], vec[0:1000], train_y[0:1000])"
   ]
  },
  {
   "cell_type": "code",
   "execution_count": 97,
   "metadata": {},
   "outputs": [
    {
     "name": "stdout",
     "output_type": "stream",
     "text": [
      "9.2\n",
      "9.2\n",
      "9.2\n",
      "11.0\n",
      "11.1\n",
      "10.7\n",
      "10.7\n",
      "10.9\n",
      "10.9\n",
      "11.0\n"
     ]
    }
   ],
   "source": [
    "mis.fit(0.01, 10)"
   ]
  },
  {
   "cell_type": "code",
   "execution_count": 89,
   "metadata": {},
   "outputs": [
    {
     "data": {
      "text/plain": [
       "2"
      ]
     },
     "execution_count": 89,
     "metadata": {},
     "output_type": "execute_result"
    }
   ],
   "source": [
    "len(mis.layers)"
   ]
  },
  {
   "cell_type": "code",
   "execution_count": 66,
   "metadata": {},
   "outputs": [
    {
     "name": "stdout",
     "output_type": "stream",
     "text": [
      "10.280000000000001\n"
     ]
    }
   ],
   "source": [
    "print (accuracy_here(getMax(preY), test_y))"
   ]
  },
  {
   "cell_type": "code",
   "execution_count": null,
   "metadata": {},
   "outputs": [],
   "source": [
    "one = Network([2, 3,10], vec[0:1000], train_y[0:1000])"
   ]
  },
  {
   "cell_type": "code",
   "execution_count": null,
   "metadata": {},
   "outputs": [],
   "source": []
  },
  {
   "cell_type": "code",
   "execution_count": null,
   "metadata": {},
   "outputs": [
    {
     "name": "stdout",
     "output_type": "stream",
     "text": [
      "31.1\n",
      "31.900000000000002\n",
      "32.4\n",
      "32.5\n",
      "32.5\n",
      "32.6\n",
      "32.6\n",
      "32.800000000000004\n",
      "32.9\n",
      "33.0\n",
      "33.0\n",
      "33.0\n",
      "33.0\n",
      "33.0\n",
      "33.0\n",
      "33.0\n",
      "33.0\n",
      "33.0\n",
      "33.0\n",
      "33.0\n",
      "33.0\n",
      "33.0\n",
      "33.0\n",
      "33.0\n",
      "33.0\n",
      "33.0\n",
      "33.0\n",
      "33.0\n",
      "33.0\n",
      "33.0\n",
      "33.0\n",
      "33.0\n",
      "33.0\n",
      "33.0\n",
      "33.0\n",
      "33.0\n",
      "33.0\n",
      "33.0\n",
      "33.0\n",
      "33.0\n",
      "33.0\n",
      "33.0\n",
      "33.0\n",
      "33.0\n",
      "33.0\n",
      "33.0\n",
      "33.0\n",
      "33.0\n",
      "33.0\n",
      "33.0\n",
      "33.0\n",
      "33.0\n",
      "33.0\n",
      "33.0\n",
      "33.0\n",
      "33.0\n",
      "33.0\n",
      "33.0\n",
      "33.0\n",
      "33.0\n",
      "33.0\n",
      "33.0\n",
      "33.0\n",
      "33.0\n",
      "33.0\n",
      "33.0\n",
      "33.0\n",
      "33.0\n",
      "33.0\n",
      "33.0\n",
      "33.0\n",
      "33.0\n",
      "33.0\n",
      "33.0\n",
      "33.0\n",
      "33.0\n",
      "33.0\n",
      "33.0\n",
      "33.0\n",
      "33.0\n",
      "33.0\n",
      "33.0\n",
      "33.0\n",
      "33.0\n",
      "33.0\n",
      "33.0\n",
      "33.0\n",
      "33.0\n",
      "33.0\n",
      "33.0\n",
      "33.0\n",
      "33.0\n",
      "33.0\n",
      "33.0\n",
      "33.0\n",
      "33.0\n",
      "33.0\n",
      "33.0\n",
      "33.0\n",
      "33.0\n",
      "33.0\n",
      "33.0\n",
      "33.0\n",
      "33.0\n",
      "33.0\n",
      "33.0\n",
      "33.0\n",
      "33.0\n",
      "33.0\n",
      "33.0\n",
      "33.0\n",
      "33.0\n",
      "33.0\n",
      "33.0\n",
      "33.0\n",
      "33.0\n",
      "33.0\n",
      "33.0\n",
      "33.0\n",
      "33.0\n",
      "33.0\n",
      "33.0\n",
      "33.0\n",
      "33.0\n",
      "33.0\n",
      "33.0\n",
      "33.0\n",
      "33.0\n",
      "33.0\n",
      "33.0\n",
      "33.0\n",
      "33.0\n",
      "33.0\n",
      "33.0\n",
      "33.0\n",
      "33.0\n",
      "33.0\n",
      "33.0\n",
      "33.0\n",
      "33.0\n",
      "33.0\n",
      "33.0\n",
      "33.0\n",
      "33.0\n",
      "33.0\n",
      "33.0\n",
      "33.0\n",
      "33.0\n",
      "33.0\n",
      "33.0\n",
      "33.0\n",
      "33.0\n",
      "33.0\n",
      "33.0\n",
      "33.0\n",
      "33.0\n",
      "33.0\n",
      "33.0\n",
      "33.0\n",
      "33.0\n",
      "33.0\n",
      "33.0\n",
      "33.0\n",
      "33.0\n",
      "33.0\n",
      "33.0\n",
      "33.0\n",
      "33.0\n",
      "33.0\n",
      "33.0\n",
      "33.0\n",
      "33.0\n",
      "33.0\n",
      "33.0\n",
      "33.0\n",
      "33.0\n",
      "33.0\n",
      "33.0\n",
      "33.0\n",
      "33.0\n",
      "33.0\n",
      "33.0\n",
      "33.0\n",
      "33.0\n",
      "33.0\n",
      "33.0\n",
      "33.0\n",
      "33.0\n",
      "33.0\n",
      "33.0\n",
      "33.0\n",
      "33.0\n",
      "33.0\n",
      "33.0\n",
      "33.0\n",
      "33.0\n",
      "33.0\n",
      "33.0\n",
      "33.0\n",
      "33.0\n",
      "33.0\n",
      "33.0\n",
      "33.0\n",
      "33.0\n",
      "33.0\n",
      "33.0\n",
      "33.0\n",
      "33.0\n",
      "33.0\n",
      "33.0\n",
      "33.0\n",
      "33.0\n",
      "33.0\n",
      "33.0\n",
      "33.0\n",
      "33.0\n",
      "33.0\n",
      "33.0\n",
      "33.0\n",
      "33.0\n",
      "33.0\n",
      "33.0\n",
      "33.0\n",
      "33.0\n",
      "33.0\n",
      "33.0\n",
      "33.0\n",
      "33.0\n",
      "33.0\n",
      "33.0\n",
      "33.0\n",
      "33.0\n",
      "33.0\n",
      "33.0\n",
      "33.0\n",
      "33.0\n",
      "33.0\n",
      "33.0\n",
      "33.0\n",
      "33.0\n",
      "33.0\n",
      "33.0\n",
      "33.0\n",
      "33.0\n",
      "33.0\n",
      "33.0\n",
      "33.0\n",
      "33.0\n",
      "33.0\n",
      "33.0\n",
      "33.0\n",
      "33.0\n",
      "33.0\n",
      "33.0\n",
      "33.0\n",
      "33.0\n",
      "33.0\n",
      "33.0\n",
      "33.0\n",
      "33.0\n",
      "33.0\n",
      "33.0\n",
      "33.0\n",
      "33.0\n",
      "33.0\n",
      "33.0\n",
      "33.0\n",
      "33.0\n",
      "33.0\n",
      "33.0\n",
      "33.0\n",
      "33.0\n",
      "33.0\n",
      "33.0\n",
      "33.0\n",
      "33.0\n",
      "33.0\n",
      "33.0\n",
      "33.0\n",
      "33.0\n",
      "33.0\n",
      "33.0\n",
      "33.0\n",
      "33.0\n",
      "33.0\n",
      "33.0\n",
      "33.0\n",
      "33.0\n",
      "33.0\n",
      "33.0\n",
      "33.0\n",
      "33.0\n",
      "33.0\n",
      "33.0\n",
      "33.0\n",
      "33.0\n",
      "33.0\n",
      "33.0\n",
      "33.0\n",
      "33.0\n",
      "33.0\n",
      "33.0\n",
      "33.0\n",
      "33.0\n",
      "33.0\n",
      "33.0\n",
      "33.0\n",
      "33.0\n",
      "33.0\n",
      "33.0\n",
      "33.0\n",
      "33.0\n",
      "33.0\n",
      "33.0\n",
      "33.0\n",
      "33.0\n",
      "33.0\n",
      "33.0\n",
      "33.0\n",
      "33.0\n",
      "33.0\n",
      "33.0\n",
      "33.0\n",
      "33.0\n",
      "33.0\n",
      "33.0\n",
      "33.0\n",
      "33.0\n",
      "33.0\n",
      "33.0\n",
      "33.0\n",
      "33.0\n",
      "33.0\n",
      "33.0\n",
      "33.0\n",
      "33.0\n",
      "33.0\n",
      "33.0\n",
      "33.0\n",
      "33.0\n",
      "33.0\n",
      "33.0\n",
      "33.0\n",
      "33.0\n",
      "33.0\n",
      "33.0\n",
      "33.0\n",
      "33.0\n",
      "33.0\n",
      "33.0\n",
      "33.0\n",
      "33.0\n",
      "33.0\n",
      "33.0\n",
      "33.0\n",
      "33.0\n",
      "33.0\n",
      "33.0\n",
      "33.0\n",
      "33.0\n",
      "33.0\n",
      "33.0\n",
      "33.0\n",
      "33.0\n",
      "33.0\n",
      "33.0\n",
      "33.0\n",
      "33.0\n",
      "33.0\n",
      "33.0\n",
      "33.0\n",
      "33.0\n",
      "33.0\n",
      "33.0\n",
      "33.0\n",
      "33.0\n",
      "33.0\n",
      "33.0\n",
      "33.0\n",
      "33.0\n",
      "33.0\n",
      "33.0\n",
      "33.0\n",
      "33.0\n",
      "33.0\n",
      "33.0\n",
      "33.0\n",
      "33.0\n",
      "33.0\n",
      "33.0\n",
      "33.0\n",
      "33.0\n",
      "33.0\n",
      "33.0\n",
      "33.0\n",
      "33.0\n",
      "33.0\n",
      "33.0\n",
      "33.0\n",
      "33.0\n",
      "33.0\n",
      "33.0\n",
      "33.0\n",
      "33.0\n",
      "33.0\n",
      "33.0\n",
      "33.0\n",
      "33.0\n",
      "33.0\n",
      "33.0\n",
      "33.0\n",
      "33.0\n",
      "33.0\n",
      "33.0\n",
      "33.0\n",
      "33.0\n"
     ]
    },
    {
     "ename": "KeyboardInterrupt",
     "evalue": "",
     "output_type": "error",
     "traceback": [
      "\u001b[1;31m---------------------------------------------------------------------------\u001b[0m",
      "\u001b[1;31mKeyboardInterrupt\u001b[0m                         Traceback (most recent call last)",
      "\u001b[1;32mC:\\Users\\COMPUS~1\\AppData\\Local\\Temp/ipykernel_12072/3639114925.py\u001b[0m in \u001b[0;36m<module>\u001b[1;34m\u001b[0m\n\u001b[1;32m----> 1\u001b[1;33m \u001b[0mone\u001b[0m\u001b[1;33m.\u001b[0m\u001b[0mfit\u001b[0m\u001b[1;33m(\u001b[0m\u001b[1;36m2\u001b[0m\u001b[1;33m,\u001b[0m \u001b[1;36m10000\u001b[0m\u001b[1;33m)\u001b[0m\u001b[1;33m\u001b[0m\u001b[1;33m\u001b[0m\u001b[0m\n\u001b[0m",
      "\u001b[1;32mC:\\Users\\COMPUS~1\\AppData\\Local\\Temp/ipykernel_12072/1370079718.py\u001b[0m in \u001b[0;36mfit\u001b[1;34m(self, eta, leranRate)\u001b[0m\n\u001b[0;32m     27\u001b[0m             \u001b[0mnow\u001b[0m \u001b[1;33m=\u001b[0m \u001b[0mnp\u001b[0m\u001b[1;33m.\u001b[0m\u001b[0mempty\u001b[0m\u001b[1;33m(\u001b[0m\u001b[1;33m(\u001b[0m\u001b[0mshape\u001b[0m\u001b[1;33m(\u001b[0m\u001b[0mself\u001b[0m\u001b[1;33m.\u001b[0m\u001b[0mtarget\u001b[0m\u001b[1;33m)\u001b[0m\u001b[1;33m)\u001b[0m\u001b[1;33m)\u001b[0m\u001b[1;33m\u001b[0m\u001b[1;33m\u001b[0m\u001b[0m\n\u001b[0;32m     28\u001b[0m             \u001b[1;32mfor\u001b[0m \u001b[0mk\u001b[0m \u001b[1;32min\u001b[0m \u001b[0mrange\u001b[0m\u001b[1;33m(\u001b[0m\u001b[1;33m(\u001b[0m\u001b[0mshape\u001b[0m\u001b[1;33m(\u001b[0m\u001b[0mself\u001b[0m\u001b[1;33m.\u001b[0m\u001b[0morin\u001b[0m\u001b[1;33m)\u001b[0m\u001b[1;33m[\u001b[0m\u001b[1;36m0\u001b[0m\u001b[1;33m]\u001b[0m\u001b[1;33m)\u001b[0m\u001b[1;33m)\u001b[0m\u001b[1;33m:\u001b[0m\u001b[1;33m\u001b[0m\u001b[1;33m\u001b[0m\u001b[0m\n\u001b[1;32m---> 29\u001b[1;33m                 \u001b[0mnow\u001b[0m\u001b[1;33m[\u001b[0m\u001b[0mk\u001b[0m\u001b[1;33m]\u001b[0m \u001b[1;33m=\u001b[0m\u001b[0mself\u001b[0m\u001b[1;33m.\u001b[0m\u001b[0mfeedForward\u001b[0m\u001b[1;33m(\u001b[0m\u001b[0mk\u001b[0m\u001b[1;33m,\u001b[0m\u001b[0mself\u001b[0m\u001b[1;33m.\u001b[0m\u001b[0minputs\u001b[0m \u001b[1;33m)\u001b[0m\u001b[1;33m\u001b[0m\u001b[1;33m\u001b[0m\u001b[0m\n\u001b[0m\u001b[0;32m     30\u001b[0m                 \u001b[0msumdelta\u001b[0m \u001b[1;33m=\u001b[0m \u001b[1;33m[\u001b[0m\u001b[1;33m]\u001b[0m\u001b[1;33m\u001b[0m\u001b[1;33m\u001b[0m\u001b[0m\n\u001b[0;32m     31\u001b[0m                 \u001b[1;32mfor\u001b[0m \u001b[0mi\u001b[0m \u001b[1;32min\u001b[0m \u001b[0mrange\u001b[0m\u001b[1;33m(\u001b[0m\u001b[0mlen\u001b[0m\u001b[1;33m(\u001b[0m\u001b[0mself\u001b[0m\u001b[1;33m.\u001b[0m\u001b[0mlayers\u001b[0m\u001b[1;33m)\u001b[0m\u001b[1;33m-\u001b[0m\u001b[1;36m1\u001b[0m\u001b[1;33m,\u001b[0m \u001b[1;36m0\u001b[0m\u001b[1;33m,\u001b[0m \u001b[1;33m-\u001b[0m\u001b[1;36m1\u001b[0m\u001b[1;33m)\u001b[0m\u001b[1;33m:\u001b[0m\u001b[1;33m\u001b[0m\u001b[1;33m\u001b[0m\u001b[0m\n",
      "\u001b[1;32mC:\\Users\\COMPUS~1\\AppData\\Local\\Temp/ipykernel_12072/1370079718.py\u001b[0m in \u001b[0;36mfeedForward\u001b[1;34m(self, datafeeded, data)\u001b[0m\n\u001b[0;32m     20\u001b[0m         \u001b[0mcurrent\u001b[0m \u001b[1;33m=\u001b[0m \u001b[0mdata\u001b[0m\u001b[1;33m[\u001b[0m\u001b[0mdatafeeded\u001b[0m\u001b[1;33m]\u001b[0m\u001b[1;33m\u001b[0m\u001b[1;33m\u001b[0m\u001b[0m\n\u001b[0;32m     21\u001b[0m         \u001b[1;32mfor\u001b[0m \u001b[0mi\u001b[0m \u001b[1;32min\u001b[0m \u001b[0mrange\u001b[0m\u001b[1;33m(\u001b[0m\u001b[0mlen\u001b[0m\u001b[1;33m(\u001b[0m\u001b[0mself\u001b[0m\u001b[1;33m.\u001b[0m\u001b[0mlayers\u001b[0m\u001b[1;33m)\u001b[0m\u001b[1;33m)\u001b[0m\u001b[1;33m:\u001b[0m\u001b[1;33m\u001b[0m\u001b[1;33m\u001b[0m\u001b[0m\n\u001b[1;32m---> 22\u001b[1;33m             \u001b[0mcurrent\u001b[0m\u001b[1;33m=\u001b[0m \u001b[0mself\u001b[0m\u001b[1;33m.\u001b[0m\u001b[0mlayers\u001b[0m\u001b[1;33m[\u001b[0m\u001b[0mi\u001b[0m\u001b[1;33m]\u001b[0m\u001b[1;33m.\u001b[0m\u001b[0mfeedForward\u001b[0m\u001b[1;33m(\u001b[0m\u001b[0mcurrent\u001b[0m\u001b[1;33m)\u001b[0m\u001b[1;33m\u001b[0m\u001b[1;33m\u001b[0m\u001b[0m\n\u001b[0m\u001b[0;32m     23\u001b[0m         \u001b[1;32mreturn\u001b[0m \u001b[0mcurrent\u001b[0m\u001b[1;33m\u001b[0m\u001b[1;33m\u001b[0m\u001b[0m\n\u001b[0;32m     24\u001b[0m \u001b[1;33m\u001b[0m\u001b[0m\n",
      "\u001b[1;32mC:\\Users\\COMPUS~1\\AppData\\Local\\Temp/ipykernel_12072/3909304179.py\u001b[0m in \u001b[0;36mfeedForward\u001b[1;34m(self, inputs)\u001b[0m\n\u001b[0;32m     11\u001b[0m     \u001b[1;32mdef\u001b[0m \u001b[0mfeedForward\u001b[0m\u001b[1;33m(\u001b[0m\u001b[0mself\u001b[0m\u001b[1;33m,\u001b[0m \u001b[0minputs\u001b[0m\u001b[1;33m)\u001b[0m\u001b[1;33m:\u001b[0m\u001b[1;33m\u001b[0m\u001b[1;33m\u001b[0m\u001b[0m\n\u001b[0;32m     12\u001b[0m         \u001b[0mself\u001b[0m\u001b[1;33m.\u001b[0m\u001b[0minputs\u001b[0m \u001b[1;33m=\u001b[0m \u001b[0minputs\u001b[0m\u001b[1;33m\u001b[0m\u001b[1;33m\u001b[0m\u001b[0m\n\u001b[1;32m---> 13\u001b[1;33m         \u001b[0mself\u001b[0m\u001b[1;33m.\u001b[0m\u001b[0moutputs\u001b[0m  \u001b[1;33m=\u001b[0m \u001b[0msigmoid\u001b[0m\u001b[1;33m(\u001b[0m\u001b[0mnp\u001b[0m\u001b[1;33m.\u001b[0m\u001b[0mdot\u001b[0m\u001b[1;33m(\u001b[0m\u001b[0mnp\u001b[0m\u001b[1;33m.\u001b[0m\u001b[0marray\u001b[0m\u001b[1;33m(\u001b[0m\u001b[0mself\u001b[0m\u001b[1;33m.\u001b[0m\u001b[0mnerweight\u001b[0m\u001b[1;33m)\u001b[0m\u001b[1;33m,\u001b[0m \u001b[0mnp\u001b[0m\u001b[1;33m.\u001b[0m\u001b[0marray\u001b[0m\u001b[1;33m(\u001b[0m\u001b[0mself\u001b[0m\u001b[1;33m.\u001b[0m\u001b[0minputs\u001b[0m\u001b[1;33m)\u001b[0m\u001b[1;33m)\u001b[0m\u001b[1;33m)\u001b[0m\u001b[1;33m\u001b[0m\u001b[1;33m\u001b[0m\u001b[0m\n\u001b[0m\u001b[0;32m     14\u001b[0m         \u001b[1;32mreturn\u001b[0m \u001b[0mself\u001b[0m\u001b[1;33m.\u001b[0m\u001b[0moutputs\u001b[0m\u001b[1;33m\u001b[0m\u001b[1;33m\u001b[0m\u001b[0m\n\u001b[0;32m     15\u001b[0m \u001b[1;33m\u001b[0m\u001b[0m\n",
      "\u001b[1;31mKeyboardInterrupt\u001b[0m: "
     ]
    }
   ],
   "source": [
    "one.fit(2, 10000)"
   ]
  },
  {
   "cell_type": "code",
   "execution_count": null,
   "metadata": {},
   "outputs": [],
   "source": [
    "def accuracy_here(predicted_y, y):\n",
    "    guess_wrong=0\n",
    "    for i in range(len(predicted_y)):\n",
    "        if(not np.array_equiv(predicted_y[i],y[i])):\n",
    "            guess_wrong+=1\n",
    "    acc = ((len(predicted_y)- guess_wrong) / len(predicted_y))\n",
    "    return (acc*100)"
   ]
  },
  {
   "cell_type": "code",
   "execution_count": null,
   "metadata": {},
   "outputs": [
    {
     "data": {
      "text/plain": [
       "11.0"
      ]
     },
     "execution_count": 324,
     "metadata": {},
     "output_type": "execute_result"
    }
   ],
   "source": []
  },
  {
   "cell_type": "code",
   "execution_count": null,
   "metadata": {},
   "outputs": [
    {
     "name": "stdout",
     "output_type": "stream",
     "text": [
      "[0 0 0 0 0 0 0 0 0 0 0 0 0 0 0 0 0 0 0 0 0 0 0 0 0 0 0 0 0 0 0 0 0 0 0 0 0\n",
      " 0 0 0 0 0 0 0 0 0 0 0 0 0 1 1 1 1 1 1 1 1 1 1 1 1 1 1 1 1 1 1 1 1 1 1 1 1\n",
      " 1 1 1 1 1 1 1 1 1 1 1 1 1 1 1 1 1 1 1 1 1 1 1 1 1 1 2 2 2 2 2 2 2 2 2 2 2\n",
      " 2 2 2 2 2 2 2 2 2 2 2 2 2 2 2 2 2 2 2 2 2 2 2 2 2 2 2 2 2 2 2 2 2 2 2 2 2\n",
      " 2 2]\n"
     ]
    }
   ],
   "source": [
    "iris = load_iris() # Sepal Length, Sepal Width, Petal Length and Petal Width\n",
    "X = iris.data\n",
    "Y = iris.target\n",
    "print(Y)\n",
    "#My split function\n",
    "X_train, X_test, Y_train, Y_test = train_test_split(X, Y)\n"
   ]
  },
  {
   "cell_type": "code",
   "execution_count": null,
   "metadata": {},
   "outputs": [],
   "source": [
    "IRNet = Network([2,2], X_train, Y_train)"
   ]
  }
 ],
 "metadata": {
  "interpreter": {
   "hash": "02091e4753613aaa25cfbd85ae4eb5d84c414c1685b7c0fac4681c9e872972a3"
  },
  "kernelspec": {
   "display_name": "Python 3.9.5 64-bit",
   "language": "python",
   "name": "python3"
  },
  "language_info": {
   "codemirror_mode": {
    "name": "ipython",
    "version": 3
   },
   "file_extension": ".py",
   "mimetype": "text/x-python",
   "name": "python",
   "nbconvert_exporter": "python",
   "pygments_lexer": "ipython3",
   "version": "3.9.5"
  },
  "orig_nbformat": 4
 },
 "nbformat": 4,
 "nbformat_minor": 2
}
