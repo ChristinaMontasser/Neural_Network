{
 "cells": [
  {
   "cell_type": "code",
   "execution_count": 1,
   "metadata": {},
   "outputs": [],
   "source": [
    "import numpy as np\n",
    "import sys\n",
    "from numpy.core.fromnumeric import shape, size\n",
    "from random import seed\n",
    "from random import random"
   ]
  },
  {
   "cell_type": "code",
   "execution_count": 2,
   "metadata": {},
   "outputs": [],
   "source": [
    "def sigmoid(x):\n",
    "  return 1 / (1 + np.exp(-x))\n",
    "\n",
    "def Loss(Y, Y_predicted):\n",
    "    return(sum(np.square(Y - Y_predicted))/Y.size)"
   ]
  },
  {
   "cell_type": "code",
   "execution_count": 3,
   "metadata": {},
   "outputs": [],
   "source": [
    "def rand(row, column):\n",
    "    returned = np.empty((row, column))\n",
    "    for j in range(row):\n",
    "        rando=[]\n",
    "        for i in range(column):\n",
    "            rando.append(random())\n",
    "            i+=1\n",
    "        returned[j] = rando\n",
    "    return returned"
   ]
  },
  {
   "cell_type": "code",
   "execution_count": 4,
   "metadata": {},
   "outputs": [
    {
     "data": {
      "text/plain": [
       "array([[0.64574262],\n",
       "       [0.60752756],\n",
       "       [0.33311581],\n",
       "       [0.87787907],\n",
       "       [0.26420473]])"
      ]
     },
     "execution_count": 4,
     "metadata": {},
     "output_type": "execute_result"
    }
   ],
   "source": [
    "rand(5,1)"
   ]
  },
  {
   "cell_type": "code",
   "execution_count": 6,
   "metadata": {},
   "outputs": [],
   "source": [
    "nerweight = np.empty((2,3))"
   ]
  },
  {
   "cell_type": "code",
   "execution_count": 7,
   "metadata": {},
   "outputs": [
    {
     "data": {
      "text/plain": [
       "(2, 3)"
      ]
     },
     "execution_count": 7,
     "metadata": {},
     "output_type": "execute_result"
    }
   ],
   "source": [
    "shape(nerweight)"
   ]
  },
  {
   "cell_type": "code",
   "execution_count": 8,
   "metadata": {},
   "outputs": [
    {
     "data": {
      "text/plain": [
       "([1, 2, 8], [4, 7, 9])"
      ]
     },
     "execution_count": 8,
     "metadata": {},
     "output_type": "execute_result"
    }
   ],
   "source": [
    "nerweight = ([1,2,8], [4, 7, 9])\n",
    "nerweight"
   ]
  },
  {
   "cell_type": "code",
   "execution_count": 9,
   "metadata": {},
   "outputs": [
    {
     "data": {
      "text/plain": [
       "array([[17],\n",
       "       [25],\n",
       "       [47]])"
      ]
     },
     "execution_count": 9,
     "metadata": {},
     "output_type": "execute_result"
    }
   ],
   "source": [
    "outputs = np.dot(np.array([[1,5],[2,7], [10, 9]]), [[2],[3]])\n",
    "outputs"
   ]
  },
  {
   "cell_type": "code",
   "execution_count": 101,
   "metadata": {},
   "outputs": [],
   "source": [
    "class Layer:\n",
    "    nerweight =0\n",
    "    inputs = 0\n",
    "    outputs=[]\n",
    "    delta=0\n",
    "\n",
    "    def __init__(self, neuronNumber,length, weight):\n",
    "        self.nerweight = weight\n",
    "        #self.nerweight =rand(neuronNumber ,length)\n",
    "        #self.bais = rand(neuronNumber , 1)\n",
    "\n",
    "    def feedForward(self, inputs):\n",
    "        self.inputs = inputs\n",
    "        self.outputs  = sigmoid(np.dot(np.array(self.nerweight), np.array(self.inputs)))\n",
    "        return self.outputs \n",
    "\n",
    "    \n",
    "    def fit(self, eta, target, outj):\n",
    "        #print(eta, target, Outj)\n",
    "        self.delta=(target-self.outputs)*self.outputs*(1-self.outputs)\n",
    "        # print(\"I'm delta\", self.delta)\n",
    "        print(eta, self.delta,outj)\n",
    "        dw = eta*np.transpose([self.delta])*np.transpose(outj)\n",
    "        print(dw, self.nerweight)\n",
    "        self.nerweight = self.nerweight + dw \n",
    "        print(self.nerweight)\n",
    "        # #self.neurons[len(self.neurons)-1].fit(eta, target, self.neurons[len(self.neurons)-2].Outj)\n",
    "        # for i in range(len(self.neurons)-2, -1, -1):\n",
    "        #     self.neurons[i].fit(eta, target,  self.neurons[len(self.neurons)-2].Outj)\n",
    "        # for i in range(len(self.neurons)):\n",
    "        #    self.neurons[i].fit(eta, target[i], outj)\n",
    "        \n"
   ]
  },
  {
   "cell_type": "code",
   "execution_count": 32,
   "metadata": {},
   "outputs": [],
   "source": [
    "class Network:\n",
    "    layers = 0\n",
    "    layernum=0\n",
    "    length=0\n",
    "    inputs =0\n",
    "    target =0\n",
    "    def __init__(self, NumNeuron, inputs, target, *argv):\n",
    "        self.layers = []\n",
    "        self.inputs =inputs\n",
    "        self.target = target\n",
    "        length = len(inputs)\n",
    "        for i in range (len(NumNeuron)):\n",
    "            layer = Layer(NumNeuron[i], length, argv[i])  \n",
    "            length = NumNeuron[i]   \n",
    "            self.layers.append(layer)\n",
    "    \n",
    "    def feedForward(self):\n",
    "        for i in range(len(self.layers)):\n",
    "            self.inputs = self.layers[i].feedForward(self.inputs)\n",
    "        return self.inputs\n",
    "    \n",
    "    def fit(self, eta):\n",
    "        #delta=self.layers[len(self.layers)-1].fitFinal()\n",
    "        #for i in range(len(self.layers)-1, -1, -1):\n",
    "            self.layers[1].fit(eta, self.target, self.layers[0].outputs)\n",
    "\n"
   ]
  },
  {
   "cell_type": "code",
   "execution_count": 12,
   "metadata": {},
   "outputs": [],
   "source": [
    "L1=np.array([[0.1, 0.4],[0.2, 0.5],[0.3, 0.6]])\n",
    "L2 = np.array([[0.3, 0.4, 0.5], [0.3, 0.4, 0.5]])\n"
   ]
  },
  {
   "cell_type": "code",
   "execution_count": 13,
   "metadata": {},
   "outputs": [
    {
     "data": {
      "text/plain": [
       "array([0.2, 0.5])"
      ]
     },
     "execution_count": 13,
     "metadata": {},
     "output_type": "execute_result"
    }
   ],
   "source": [
    "L1[1]"
   ]
  },
  {
   "cell_type": "code",
   "execution_count": 103,
   "metadata": {},
   "outputs": [],
   "source": [
    "Net = Network([3, 2], np.array([7,4]), [0, 1], L1, L2)\n",
    "#Net.fit(0.1)"
   ]
  },
  {
   "cell_type": "markdown",
   "metadata": {},
   "source": []
  },
  {
   "cell_type": "code",
   "execution_count": 86,
   "metadata": {},
   "outputs": [
    {
     "data": {
      "text/plain": [
       "array([[-0.62968324, -0.67043979, -0.68520264],\n",
       "       [ 0.19853501,  0.21138528,  0.21603991]])"
      ]
     },
     "execution_count": 86,
     "metadata": {},
     "output_type": "execute_result"
    }
   ],
   "source": [
    "5*np.dot(np.transpose([[-0.13856291,  0.04368798]]), [[0.90887704, 0.96770454, 0.98901306]])"
   ]
  },
  {
   "cell_type": "code",
   "execution_count": 104,
   "metadata": {},
   "outputs": [
    {
     "data": {
      "text/plain": [
       "array([0.76028661, 0.76028661])"
      ]
     },
     "execution_count": 104,
     "metadata": {},
     "output_type": "execute_result"
    }
   ],
   "source": [
    "Net.feedForward()"
   ]
  },
  {
   "cell_type": "code",
   "execution_count": 16,
   "metadata": {},
   "outputs": [
    {
     "data": {
      "text/plain": [
       "3"
      ]
     },
     "execution_count": 16,
     "metadata": {},
     "output_type": "execute_result"
    }
   ],
   "source": [
    "len([3, 5,2])"
   ]
  },
  {
   "cell_type": "code",
   "execution_count": 17,
   "metadata": {},
   "outputs": [],
   "source": [
    "flmf=np.array([1])"
   ]
  },
  {
   "cell_type": "code",
   "execution_count": 105,
   "metadata": {},
   "outputs": [
    {
     "name": "stdout",
     "output_type": "stream",
     "text": [
      "5 [-0.13856291  0.04368798] [0.90887704 0.96770454 0.98901306]\n",
      "[[-0.62968321 -0.67043976 -0.68520261]\n",
      " [ 0.198535    0.21138527  0.2160399 ]] [[0.3 0.4 0.5]\n",
      " [0.3 0.4 0.5]]\n",
      "[[-0.32968321 -0.27043976 -0.18520261]\n",
      " [ 0.498535    0.61138527  0.7160399 ]]\n"
     ]
    }
   ],
   "source": [
    "Net.fit(5)"
   ]
  },
  {
   "cell_type": "code",
   "execution_count": null,
   "metadata": {},
   "outputs": [],
   "source": [
    "Outj = np.array([0.76])\n",
    "target = np.array([0])\n",
    "eta = 5\n",
    "Outi = np.array([0.909, 0.96, 0.989])\n"
   ]
  },
  {
   "cell_type": "code",
   "execution_count": null,
   "metadata": {},
   "outputs": [
    {
     "name": "stdout",
     "output_type": "stream",
     "text": [
      "[-0.138624]\n",
      "[-0.63004608 -0.6653952  -0.68549568]\n"
     ]
    }
   ],
   "source": [
    "delta=(target-Outj)*Outj*(1-Outj)\n",
    "print(delta)\n",
    "dw = eta*delta*Outi\n",
    "print(dw)\n"
   ]
  },
  {
   "cell_type": "code",
   "execution_count": null,
   "metadata": {},
   "outputs": [],
   "source": [
    "l=np.array([[1,2,5],[5, 0.2, 3]])"
   ]
  }
 ],
 "metadata": {
  "interpreter": {
   "hash": "02091e4753613aaa25cfbd85ae4eb5d84c414c1685b7c0fac4681c9e872972a3"
  },
  "kernelspec": {
   "display_name": "Python 3.9.5 64-bit",
   "language": "python",
   "name": "python3"
  },
  "language_info": {
   "codemirror_mode": {
    "name": "ipython",
    "version": 3
   },
   "file_extension": ".py",
   "mimetype": "text/x-python",
   "name": "python",
   "nbconvert_exporter": "python",
   "pygments_lexer": "ipython3",
   "version": "3.9.5"
  },
  "orig_nbformat": 4
 },
 "nbformat": 4,
 "nbformat_minor": 2
}
