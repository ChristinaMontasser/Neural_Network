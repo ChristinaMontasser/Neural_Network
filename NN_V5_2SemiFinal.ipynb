{
 "cells": [
  {
   "cell_type": "code",
   "execution_count": 1,
   "metadata": {},
   "outputs": [],
   "source": [
    "import numpy as np\n",
    "from numpy.core.fromnumeric import shape, size\n",
    "from random import random\n",
    "from keras.datasets import mnist"
   ]
  },
  {
   "cell_type": "markdown",
   "metadata": {},
   "source": [
    "Stand_Alone functions\n"
   ]
  },
  {
   "cell_type": "code",
   "execution_count": 3,
   "metadata": {},
   "outputs": [],
   "source": [
    "def sigmoid(x):\n",
    "  return 1 / (1 + np.exp(-x))\n",
    "\n",
    "def rand(row, column):\n",
    "    returned = np.empty((row, column))\n",
    "    for j in range(row):\n",
    "        rando=[]\n",
    "        for i in range(column):\n",
    "            rando.append(random())\n",
    "            i+=1\n",
    "        returned[j] = rando\n",
    "    return returned\n",
    "\n",
    "\n",
    "def Normalize(X):\n",
    "    return((X-X.min())/(X.max()-X.min()))\n",
    "\n",
    "def Binarize(X):\n",
    "    X [X < 100] = 0\n",
    "    X [X >= 100] = 1       \n",
    "    return X\n",
    "\n",
    "def labelVector (num):\n",
    "    n = np.empty((len(num), 10))\n",
    "    for i in range (len(num)):\n",
    "        re = np.zeros((1 , 10))\n",
    "        re[:,num[i]] = 1\n",
    "        n[i] =re\n",
    "    return n\n",
    "\n",
    "def getMax(ma):\n",
    "    for i in range(shape(ma)[0]):\n",
    "        index = 0\n",
    "        for j in range((shape(ma)[1])-1):\n",
    "            if(ma[i][j+1]>ma[i][index]):\n",
    "                index = j+1       \n",
    "        for l in range(shape(ma)[1]):\n",
    "            if(l==index):\n",
    "                ma[i][l] =1 \n",
    "            else:\n",
    "                ma[i][l] =0      \n",
    "    return ma\n",
    "\n",
    "\n",
    "def accuracy(predicted_y, y):\n",
    "    guess_wrong=0\n",
    "    for i in range(len(predicted_y)):\n",
    "        if(not np.array_equiv(predicted_y[i],y[i])):\n",
    "            guess_wrong+=1\n",
    "    acc = ((len(predicted_y)- guess_wrong) / len(predicted_y))\n",
    "    return (acc*100)"
   ]
  },
  {
   "cell_type": "markdown",
   "metadata": {},
   "source": [
    "Neural Networks Architecture \n"
   ]
  },
  {
   "cell_type": "code",
   "execution_count": 4,
   "metadata": {},
   "outputs": [],
   "source": [
    "class Layer:\n",
    "    nerweight =0\n",
    "    inputs = 0\n",
    "    outputs=0\n",
    "    delta=0\n",
    "    def __init__(self, neuronNumber,length):\n",
    "        self.nerweight =rand(neuronNumber, length)\n",
    "        #self.bais = rand(neuronNumber , 1)\n",
    "\n",
    "    def feedForward(self, inputs):\n",
    "        self.outputs= []\n",
    "        self.inputs = inputs\n",
    "        self.outputs  = sigmoid(np.dot(np.array(self.nerweight), self.inputs))\n",
    "        return self.outputs \n",
    "\n",
    "    \n",
    "    def fit(self, eta, target, outj, sumDelta):\n",
    "        if(size(sumDelta)==0):\n",
    "            self.delta=(target-self.outputs)*self.outputs*(1-self.outputs)\n",
    "            dw = eta*np.transpose([self.delta])*np.transpose(outj)\n",
    "            self.nerweight = self.nerweight + dw \n",
    "            return np.dot(self.delta, self.nerweight)\n",
    "        else:\n",
    "            self.delta=sumDelta*self.outputs*(1-self.outputs)\n",
    "            dw = eta*self.delta*np.transpose([outj])\n",
    "            self.nerweight = self.nerweight + np.transpose(dw)\n",
    "            return np.dot(self.delta, self.nerweight)\n",
    "            "
   ]
  },
  {
   "cell_type": "code",
   "execution_count": 36,
   "metadata": {},
   "outputs": [],
   "source": [
    "class Network:\n",
    "    layers = 0\n",
    "    layernum=0\n",
    "    length=0\n",
    "    orin=0\n",
    "    inputs =0\n",
    "    target =0\n",
    "    def __init__(self, NumNeuron, inputs, target):\n",
    "        self.layers = []\n",
    "        self.orin = inputs\n",
    "        self.inputs =inputs\n",
    "        self.target = target\n",
    "        length = shape(inputs)[1]\n",
    "        #One hidden layer layer\n",
    "        if(len(NumNeuron) ==0):\n",
    "            layer = Layer(4, length)  \n",
    "            length =4\n",
    "            self.layers.append(layer)\n",
    "        else: \n",
    "            for i in range (len(NumNeuron)):\n",
    "                if(NumNeuron[i]<4):\n",
    "                    NumNeuron[i] = 4\n",
    "                layer = Layer(NumNeuron[i], length)  \n",
    "                length = NumNeuron[i]   \n",
    "                self.layers.append(layer)\n",
    "                \n",
    "        #default Output layer\n",
    "        layer = Layer(shape(target)[1], length)  \n",
    "        self.layers.append(layer)\n",
    "\n",
    "    def feedForward(self, data):\n",
    "        current =np.copy(data)\n",
    "        for i in range(len(self.layers)):\n",
    "            current= self.layers[i].feedForward(current)\n",
    "        return current\n",
    "    \n",
    "    def fit(self, eta, leranRate):\n",
    "        for j in range(leranRate):\n",
    "            now = np.empty((shape(self.target)))\n",
    "            for k in range((shape(self.orin)[0])): \n",
    "                now[k] =self.feedForward(self.orin[k])   \n",
    "                sumdelta = []\n",
    "                for i in range(len(self.layers)-1, 0, -1):\n",
    "                    sumdelta =self.layers[i].fit(eta, self.target[k], self.layers[i-1].outputs, sumdelta)\n",
    "                sumdelta =self.layers[0].fit(eta, self.target[k], self.orin[k], sumdelta)\n",
    "            if(j%10 == 0):\n",
    "                print (accuracy(getMax(now), train_y))\n"
   ]
  },
  {
   "cell_type": "markdown",
   "metadata": {},
   "source": [
    "Image Processing Functions \n"
   ]
  },
  {
   "cell_type": "code",
   "execution_count": 6,
   "metadata": {},
   "outputs": [],
   "source": [
    "def centroid(X):\n",
    "    M00=np.sum(X.sum(axis=1))\n",
    "    M10 =np.array([])\n",
    "    M01 =np.array([])\n",
    "    for i in range(X.shape[0]):\n",
    "        M10= np.append(M10, (X[i].sum(axis=0)*(i+1)))\n",
    "        \n",
    "    for i in range(X.shape[1]):\n",
    "        M01 = np.append(M01,(X[:,i].sum(axis=0)*(i+1)))\n",
    "    M10 = np.sum(M10)\n",
    "    M01 = np.sum(M01)\n",
    "    if(M00==0):\n",
    "        Xc= 0\n",
    "        Yc= 0\n",
    "    else:\n",
    "        Xc = M10/M00\n",
    "        Yc = M01/M00\n",
    "    return np.array([Xc, Yc])"
   ]
  },
  {
   "cell_type": "code",
   "execution_count": 7,
   "metadata": {},
   "outputs": [],
   "source": [
    "def FeatureImage(X):\n",
    "    vector=np.array([])\n",
    "    for i in range(2):\n",
    "        for j in range(4):              #0-7, 0--14  \n",
    "            vector= np.append(vector, centroid(X[j*7:((j+1)*7) ,i*14:((i+1)*14)])) \n",
    "    return vector"
   ]
  },
  {
   "cell_type": "markdown",
   "metadata": {},
   "source": [
    "Application"
   ]
  },
  {
   "cell_type": "code",
   "execution_count": 8,
   "metadata": {},
   "outputs": [],
   "source": [
    "(train_X, train_y), (test_X, test_y) = mnist.load_data()\n"
   ]
  },
  {
   "cell_type": "code",
   "execution_count": null,
   "metadata": {},
   "outputs": [],
   "source": [
    "train_X =Binarize(train_X)\n",
    "test_X = Binarize(test_X)"
   ]
  },
  {
   "cell_type": "code",
   "execution_count": 9,
   "metadata": {},
   "outputs": [
    {
     "data": {
      "text/plain": [
       "(960000,)"
      ]
     },
     "execution_count": 9,
     "metadata": {},
     "output_type": "execute_result"
    }
   ],
   "source": [
    "vec = np.array([])\n",
    "for i in range(60000):\n",
    "    vec = np.append(vec, FeatureImage(train_X[i]))\n",
    "vec.shape"
   ]
  },
  {
   "cell_type": "code",
   "execution_count": 10,
   "metadata": {},
   "outputs": [
    {
     "data": {
      "text/plain": [
       "(60000, 16)"
      ]
     },
     "execution_count": 10,
     "metadata": {},
     "output_type": "execute_result"
    }
   ],
   "source": [
    "vec =vec.reshape(60000, 16)\n",
    "vec.shape"
   ]
  },
  {
   "cell_type": "code",
   "execution_count": 11,
   "metadata": {},
   "outputs": [
    {
     "name": "stdout",
     "output_type": "stream",
     "text": [
      "(160000,)\n",
      "(10000, 16)\n"
     ]
    }
   ],
   "source": [
    "vecTest = np.array([])\n",
    "for i in range(10000):\n",
    "    vecTest = np.append(vecTest, FeatureImage(test_X[i]))\n",
    "print(vecTest.shape)\n",
    "vecTest =vecTest.reshape(10000, 16)\n",
    "print(vecTest.shape)"
   ]
  },
  {
   "cell_type": "code",
   "execution_count": 12,
   "metadata": {},
   "outputs": [],
   "source": [
    "test_y = labelVector(test_y)\n"
   ]
  },
  {
   "cell_type": "code",
   "execution_count": 16,
   "metadata": {},
   "outputs": [],
   "source": [
    "train_y =labelVector(train_y)"
   ]
  },
  {
   "cell_type": "markdown",
   "metadata": {},
   "source": [
    "TEST"
   ]
  },
  {
   "cell_type": "code",
   "execution_count": 45,
   "metadata": {},
   "outputs": [
    {
     "name": "stdout",
     "output_type": "stream",
     "text": [
      "10.345\n",
      "10.395\n",
      "10.405000000000001\n",
      "10.435\n",
      "10.43\n",
      "10.45\n",
      "10.445\n",
      "10.405000000000001\n",
      "10.41\n",
      "10.4\n",
      "9.46\n"
     ]
    }
   ],
   "source": [
    "Test1 = Network([4, 6], vec[0:20000], train_y[0:20000])\n",
    "Test1.fit(0.03, 100)\n",
    "preY1 = np.empty((shape(test_y)))\n",
    "for i in range(len(test_y)-5000):\n",
    "    preY1[i]=Test1.feedForward(vecTest[i])\n",
    "print(accuracy(getMax(preY1), test_y))"
   ]
  },
  {
   "cell_type": "code",
   "execution_count": 47,
   "metadata": {},
   "outputs": [
    {
     "name": "stdout",
     "output_type": "stream",
     "text": [
      "10.355\n",
      "10.31\n",
      "10.295\n",
      "10.290000000000001\n",
      "10.295\n",
      "10.315000000000001\n",
      "10.255\n",
      "10.18\n",
      "10.17\n",
      "10.12\n",
      "9.8\n"
     ]
    }
   ],
   "source": [
    "Test2 = Network([4, 6], vec[0:20000], train_y[0:20000])\n",
    "Test2.fit(0.05, 100)\n",
    "preY2 = np.empty((shape(test_y)))\n",
    "for i in range(len(test_y)-5000):\n",
    "    preY2[i]=Test2.feedForward(vecTest[i])\n",
    "print(accuracy(getMax(preY2), test_y))"
   ]
  },
  {
   "cell_type": "code",
   "execution_count": 48,
   "metadata": {},
   "outputs": [
    {
     "name": "stdout",
     "output_type": "stream",
     "text": [
      "9.855\n",
      "9.855\n",
      "9.855\n",
      "9.855\n",
      "10.334999999999999\n",
      "10.375\n",
      "10.375\n",
      "10.375\n",
      "10.365\n",
      "10.365\n",
      "9.8\n"
     ]
    }
   ],
   "source": [
    "Test3 = Network([15, 8, 20], vec[0:20000], train_y[0:20000])\n",
    "Test3.fit(0.01, 100)\n",
    "preY3 = np.empty((shape(test_y)))\n",
    "for i in range(len(test_y)-5000):\n",
    "    preY3[i]=Test3.feedForward(vecTest[i])\n",
    "print(accuracy(getMax(preY3), test_y))"
   ]
  },
  {
   "cell_type": "code",
   "execution_count": 49,
   "metadata": {},
   "outputs": [
    {
     "name": "stdout",
     "output_type": "stream",
     "text": [
      "9.65\n",
      "9.525\n",
      "9.47\n",
      "9.4125\n",
      "9.41\n",
      "9.417499999999999\n",
      "9.415\n",
      "9.4125\n",
      "9.4125\n",
      "9.417499999999999\n",
      "10.91\n"
     ]
    }
   ],
   "source": [
    "Test4 = Network([15, 8, 20], vec[0:40000], train_y[0:40000])\n",
    "Test4.fit(0.03, 100)\n",
    "preY4 = np.empty((shape(test_y)))\n",
    "for i in range(len(test_y)-5000):\n",
    "    preY4[i]=Test4.feedForward(vecTest[i])\n",
    "print(accuracy(getMax(preY4), test_y))"
   ]
  },
  {
   "cell_type": "code",
   "execution_count": 50,
   "metadata": {},
   "outputs": [
    {
     "name": "stdout",
     "output_type": "stream",
     "text": [
      "11.407499999999999\n",
      "9.292499999999999\n",
      "9.305\n",
      "9.415\n",
      "9.41\n",
      "9.417499999999999\n",
      "9.415\n",
      "9.415\n",
      "10.3475\n",
      "10.37\n",
      "10.37\n",
      "10.91\n"
     ]
    }
   ],
   "source": [
    "Test5 = Network([15, 8, 20], vec[0:40000], train_y[0:40000])\n",
    "Test5.fit(0.05, 25)\n",
    "Test5.fit(0.03, 50)\n",
    "Test5.fit(0.01, 25)\n",
    "preY5 = np.empty((shape(test_y)))\n",
    "for i in range(len(test_y)-5000):\n",
    "    preY5[i]=Test5.feedForward(vecTest[i])\n",
    "print(accuracy(getMax(preY5), test_y))"
   ]
  },
  {
   "cell_type": "code",
   "execution_count": 51,
   "metadata": {},
   "outputs": [
    {
     "name": "stdout",
     "output_type": "stream",
     "text": [
      "9.81\n",
      "9.3125\n",
      "9.3025\n",
      "9.41\n",
      "9.417499999999999\n",
      "9.417499999999999\n",
      "9.415\n",
      "9.41\n",
      "10.342500000000001\n",
      "10.365\n",
      "10.3675\n"
     ]
    },
    {
     "ename": "TypeError",
     "evalue": "getMax() got an unexpected keyword argument 'preY5'",
     "output_type": "error",
     "traceback": [
      "\u001b[1;31m---------------------------------------------------------------------------\u001b[0m",
      "\u001b[1;31mTypeError\u001b[0m                                 Traceback (most recent call last)",
      "\u001b[1;32mC:\\Users\\COMPUS~1\\AppData\\Local\\Temp/ipykernel_5940/740770223.py\u001b[0m in \u001b[0;36m<module>\u001b[1;34m\u001b[0m\n\u001b[0;32m      6\u001b[0m \u001b[1;32mfor\u001b[0m \u001b[0mi\u001b[0m \u001b[1;32min\u001b[0m \u001b[0mrange\u001b[0m\u001b[1;33m(\u001b[0m\u001b[0mlen\u001b[0m\u001b[1;33m(\u001b[0m\u001b[0mtest_y\u001b[0m\u001b[1;33m)\u001b[0m\u001b[1;33m-\u001b[0m\u001b[1;36m5000\u001b[0m\u001b[1;33m)\u001b[0m\u001b[1;33m:\u001b[0m\u001b[1;33m\u001b[0m\u001b[1;33m\u001b[0m\u001b[0m\n\u001b[0;32m      7\u001b[0m     \u001b[0mpreY6\u001b[0m\u001b[1;33m[\u001b[0m\u001b[0mi\u001b[0m\u001b[1;33m]\u001b[0m\u001b[1;33m=\u001b[0m\u001b[0mTest6\u001b[0m\u001b[1;33m.\u001b[0m\u001b[0mfeedForward\u001b[0m\u001b[1;33m(\u001b[0m\u001b[0mvecTest\u001b[0m\u001b[1;33m[\u001b[0m\u001b[0mi\u001b[0m\u001b[1;33m]\u001b[0m\u001b[1;33m)\u001b[0m\u001b[1;33m\u001b[0m\u001b[1;33m\u001b[0m\u001b[0m\n\u001b[1;32m----> 8\u001b[1;33m \u001b[0mprint\u001b[0m\u001b[1;33m(\u001b[0m\u001b[0maccuracy\u001b[0m\u001b[1;33m(\u001b[0m\u001b[0mgetMax\u001b[0m\u001b[1;33m(\u001b[0m\u001b[0mpreY5\u001b[0m\u001b[1;33m=\u001b[0m\u001b[1;36m6\u001b[0m\u001b[1;33m)\u001b[0m\u001b[1;33m,\u001b[0m \u001b[0mtest_y\u001b[0m\u001b[1;33m)\u001b[0m\u001b[1;33m)\u001b[0m\u001b[1;33m\u001b[0m\u001b[1;33m\u001b[0m\u001b[0m\n\u001b[0m",
      "\u001b[1;31mTypeError\u001b[0m: getMax() got an unexpected keyword argument 'preY5'"
     ]
    }
   ],
   "source": [
    "Test6 = Network([15, 8, 20], vec[0:40000], train_y[0:40000])\n",
    "Test6.fit(0.05, 25)\n",
    "Test6.fit(0.03, 50)\n",
    "Test6.fit(0.01, 25)\n"
   ]
  },
  {
   "cell_type": "code",
   "execution_count": 52,
   "metadata": {},
   "outputs": [
    {
     "name": "stdout",
     "output_type": "stream",
     "text": [
      "10.91\n"
     ]
    }
   ],
   "source": [
    "preY6 = np.empty((shape(test_y)))\n",
    "for i in range(len(test_y)-5000):\n",
    "    preY6[i]=Test6.feedForward(vecTest[i])\n",
    "print(accuracy(getMax(preY6), test_y))"
   ]
  }
 ],
 "metadata": {
  "interpreter": {
   "hash": "02091e4753613aaa25cfbd85ae4eb5d84c414c1685b7c0fac4681c9e872972a3"
  },
  "kernelspec": {
   "display_name": "Python 3.9.5 64-bit",
   "language": "python",
   "name": "python3"
  },
  "language_info": {
   "codemirror_mode": {
    "name": "ipython",
    "version": 3
   },
   "file_extension": ".py",
   "mimetype": "text/x-python",
   "name": "python",
   "nbconvert_exporter": "python",
   "pygments_lexer": "ipython3",
   "version": "3.9.5"
  },
  "orig_nbformat": 4
 },
 "nbformat": 4,
 "nbformat_minor": 2
}
