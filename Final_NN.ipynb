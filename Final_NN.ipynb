{
 "cells": [
  {
   "cell_type": "code",
   "execution_count": 58,
   "metadata": {},
   "outputs": [],
   "source": [
    "import numpy as np\n",
    "from numpy.core.fromnumeric import shape, size\n",
    "from random import random, randint, uniform\n",
    "from keras.datasets import mnist"
   ]
  },
  {
   "cell_type": "markdown",
   "metadata": {},
   "source": [
    "Stand_Alone functions\n"
   ]
  },
  {
   "cell_type": "code",
   "execution_count": 75,
   "metadata": {},
   "outputs": [],
   "source": [
    "def sigmoid(x):\n",
    "  return 1 / (1 + np.exp(-x))\n",
    "\n",
    "def rand(row, column):\n",
    "    returned = np.empty((row, column))\n",
    "    for j in range(row):\n",
    "        rando=[]\n",
    "        for i in range(column):\n",
    "            rando.append(uniform(-2, 2))\n",
    "            i+=1\n",
    "        returned[j] = rando\n",
    "    return returned\n",
    "\n",
    "\n",
    "def Normalize(X):\n",
    "    return((X-X.min())/(X.max()-X.min()))\n",
    "\n",
    "def Binarize(X):\n",
    "    X [X < 100] = 0\n",
    "    X [X >= 100] = 1       \n",
    "    return X\n",
    "\n",
    "def labelVector (num):\n",
    "    n = np.empty((len(num), 10))\n",
    "    for i in range (len(num)):\n",
    "        re = np.zeros((1 , 10))\n",
    "        re[:,num[i]] = 1\n",
    "        n[i] =re\n",
    "    return n\n",
    "\n",
    "def getMax(ma):\n",
    "    for i in range(shape(ma)[0]):\n",
    "        index = 0\n",
    "        for j in range((shape(ma)[1])-1):\n",
    "            if(ma[i][j+1]>ma[i][index]):\n",
    "                index = j+1       \n",
    "        for l in range(shape(ma)[1]):\n",
    "            if(l==index):\n",
    "                ma[i][l] =1 \n",
    "            else:\n",
    "                ma[i][l] =0      \n",
    "    return ma\n",
    "\n",
    "\n",
    "def accuracy(predicted_y, y):\n",
    "    guess_wrong=0\n",
    "    for i in range(len(predicted_y)):\n",
    "        if(not np.array_equiv(predicted_y[i],y[i])):\n",
    "            guess_wrong+=1\n",
    "    acc = ((len(predicted_y)- guess_wrong) / len(predicted_y))\n",
    "    return (acc*100)"
   ]
  },
  {
   "cell_type": "markdown",
   "metadata": {},
   "source": [
    "Neural Networks Architecture \n"
   ]
  },
  {
   "cell_type": "code",
   "execution_count": 3,
   "metadata": {},
   "outputs": [],
   "source": [
    "class Layer:\n",
    "    nerweight =0\n",
    "    inputs = 0\n",
    "    outputs=0\n",
    "    delta=0\n",
    "    def __init__(self, neuronNumber,length):\n",
    "        self.nerweight =rand(neuronNumber, length)\n",
    "        #self.bais = rand(neuronNumber , 1)\n",
    "\n",
    "    def feedForward(self, inputs):\n",
    "        self.outputs= []\n",
    "        self.inputs = inputs\n",
    "        self.outputs  = sigmoid(np.dot(np.array(self.nerweight), self.inputs))\n",
    "        return self.outputs \n",
    "\n",
    "    \n",
    "    def fit(self, eta, target, outj, sumDelta):\n",
    "        if(size(sumDelta)==0):\n",
    "            self.delta=(target-self.outputs)*self.outputs*(1-self.outputs)\n",
    "            dw = eta*np.transpose([self.delta])*np.transpose(outj)\n",
    "            self.nerweight = self.nerweight + dw \n",
    "            return np.dot(self.delta, self.nerweight)\n",
    "        else:\n",
    "            self.delta=sumDelta*self.outputs*(1-self.outputs)\n",
    "            dw = eta*self.delta*np.transpose([outj])\n",
    "            self.nerweight = self.nerweight + np.transpose(dw)\n",
    "            return np.dot(self.delta, self.nerweight)\n",
    "            "
   ]
  },
  {
   "cell_type": "code",
   "execution_count": 38,
   "metadata": {},
   "outputs": [],
   "source": [
    "class Network:\n",
    "    layers = 0\n",
    "    layernum=0\n",
    "    length=0\n",
    "    orin=0\n",
    "    inputs =0\n",
    "    target =0\n",
    "    def __init__(self, NumNeuron, inputs, target):\n",
    "        self.layers = []\n",
    "        self.orin = inputs\n",
    "        self.inputs =inputs\n",
    "        self.target = target\n",
    "        length = shape(inputs)[1]\n",
    "        #One hidden layer layer\n",
    "        if(len(NumNeuron) ==0):\n",
    "            layer = Layer(4, length)  \n",
    "            length =4\n",
    "            self.layers.append(layer)\n",
    "        else: \n",
    "            for i in range (len(NumNeuron)):\n",
    "                if(NumNeuron[i]<4):\n",
    "                    NumNeuron[i] = 4\n",
    "                layer = Layer(NumNeuron[i], length)  \n",
    "                length = NumNeuron[i]   \n",
    "                self.layers.append(layer)\n",
    "                \n",
    "        #default Output layer\n",
    "        layer = Layer(shape(target)[1], length)  \n",
    "        self.layers.append(layer)\n",
    "\n",
    "    def feedForward(self, data):\n",
    "        current =np.copy(data)\n",
    "        for i in range(len(self.layers)):\n",
    "            current =self.layers[i].feedForward(current)\n",
    "        return current\n",
    "    \n",
    "    def fit(self, eta, leranRate):\n",
    "        for j in range(leranRate):\n",
    "            precdicated = np.empty((shape(self.target))) \n",
    "            for k in range((shape(self.orin)[0])): \n",
    "                precdicated[k] =self.feedForward(self.orin[k])\n",
    "                sumdelta = []\n",
    "                for i in range(len(self.layers)-1, 0, -1):\n",
    "                    sumdelta =self.layers[i].fit(eta, self.target[k], self.layers[i-1].outputs, sumdelta)\n",
    "                sumdelta =self.layers[0].fit(eta, self.target[k], self.orin[k], sumdelta)\n",
    "            if(j%10 == 0):\n",
    "                print (accuracy(getMax(precdicated), train_y))\n"
   ]
  },
  {
   "cell_type": "markdown",
   "metadata": {},
   "source": [
    "Image Processing Functions \n"
   ]
  },
  {
   "cell_type": "code",
   "execution_count": 5,
   "metadata": {},
   "outputs": [],
   "source": [
    "def centroid(X):\n",
    "    M00=np.sum(X.sum(axis=1))\n",
    "    M10 =np.array([])\n",
    "    M01 =np.array([])\n",
    "    for i in range(X.shape[0]):\n",
    "        M10= np.append(M10, (X[i].sum(axis=0)*(i+1)))\n",
    "        \n",
    "    for i in range(X.shape[1]):\n",
    "        M01 = np.append(M01,(X[:,i].sum(axis=0)*(i+1)))\n",
    "    M10 = np.sum(M10)\n",
    "    M01 = np.sum(M01)\n",
    "    if(M00==0):\n",
    "        Xc= 0\n",
    "        Yc= 0\n",
    "    else:\n",
    "        Xc = M10/M00\n",
    "        Yc = M01/M00\n",
    "    return np.array([Xc, Yc])"
   ]
  },
  {
   "cell_type": "code",
   "execution_count": 6,
   "metadata": {},
   "outputs": [],
   "source": [
    "def FeatureImage(X):\n",
    "    vector=np.array([])\n",
    "    for i in range(2):\n",
    "        for j in range(4):              #0-7, 0--14  \n",
    "            vector= np.append(vector, centroid(X[j*7:((j+1)*7) ,i*14:((i+1)*14)])) \n",
    "    return vector"
   ]
  },
  {
   "cell_type": "markdown",
   "metadata": {},
   "source": [
    "Application"
   ]
  },
  {
   "cell_type": "code",
   "execution_count": 7,
   "metadata": {},
   "outputs": [],
   "source": [
    "(train_X, train_y), (test_X, test_y) = mnist.load_data()\n"
   ]
  },
  {
   "cell_type": "code",
   "execution_count": 8,
   "metadata": {},
   "outputs": [],
   "source": [
    "train_X =Binarize(train_X)\n",
    "test_X = Binarize(test_X)"
   ]
  },
  {
   "cell_type": "code",
   "execution_count": 9,
   "metadata": {},
   "outputs": [
    {
     "data": {
      "text/plain": [
       "(960000,)"
      ]
     },
     "execution_count": 9,
     "metadata": {},
     "output_type": "execute_result"
    }
   ],
   "source": [
    "vec = np.array([])\n",
    "for i in range(60000):\n",
    "    vec = np.append(vec, FeatureImage(train_X[i]))\n",
    "vec.shape"
   ]
  },
  {
   "cell_type": "code",
   "execution_count": 10,
   "metadata": {},
   "outputs": [
    {
     "data": {
      "text/plain": [
       "(60000, 16)"
      ]
     },
     "execution_count": 10,
     "metadata": {},
     "output_type": "execute_result"
    }
   ],
   "source": [
    "vec =vec.reshape(60000, 16)\n",
    "vec.shape"
   ]
  },
  {
   "cell_type": "code",
   "execution_count": 11,
   "metadata": {},
   "outputs": [
    {
     "name": "stdout",
     "output_type": "stream",
     "text": [
      "(160000,)\n",
      "(10000, 16)\n"
     ]
    }
   ],
   "source": [
    "vecTest = np.array([])\n",
    "for i in range(10000):\n",
    "    vecTest = np.append(vecTest, FeatureImage(test_X[i]))\n",
    "print(vecTest.shape)\n",
    "vecTest =vecTest.reshape(10000, 16)\n",
    "print(vecTest.shape)"
   ]
  },
  {
   "cell_type": "code",
   "execution_count": 12,
   "metadata": {},
   "outputs": [],
   "source": [
    "test_y = labelVector(test_y)\n"
   ]
  },
  {
   "cell_type": "code",
   "execution_count": 13,
   "metadata": {},
   "outputs": [],
   "source": [
    "train_y =labelVector(train_y)"
   ]
  },
  {
   "cell_type": "markdown",
   "metadata": {},
   "source": [
    "TEST"
   ]
  },
  {
   "cell_type": "code",
   "execution_count": 14,
   "metadata": {},
   "outputs": [],
   "source": [
    "vec=Normalize(vec)"
   ]
  },
  {
   "cell_type": "code",
   "execution_count": 42,
   "metadata": {},
   "outputs": [
    {
     "name": "stdout",
     "output_type": "stream",
     "text": [
      "10.7\n",
      "39.379999999999995\n",
      "52.56999999999999\n",
      "61.919999999999995\n",
      "66.4\n",
      "68.30000000000001\n",
      "69.58\n",
      "70.5\n",
      "71.21\n",
      "71.89\n",
      "72.72999999999999\n"
     ]
    }
   ],
   "source": [
    "Test4 = Network([6, 12], vec[0:10000], train_y[0:10000])\n",
    "Test4.fit(0.05, 101)\n"
   ]
  },
  {
   "cell_type": "code",
   "execution_count": 16,
   "metadata": {},
   "outputs": [],
   "source": [
    "vecTest = Normalize(vecTest)"
   ]
  },
  {
   "cell_type": "code",
   "execution_count": null,
   "metadata": {},
   "outputs": [],
   "source": []
  },
  {
   "cell_type": "code",
   "execution_count": 17,
   "metadata": {},
   "outputs": [
    {
     "data": {
      "text/plain": [
       "10000"
      ]
     },
     "execution_count": 17,
     "metadata": {},
     "output_type": "execute_result"
    }
   ],
   "source": [
    "len(test_y)"
   ]
  },
  {
   "cell_type": "code",
   "execution_count": 23,
   "metadata": {},
   "outputs": [
    {
     "data": {
      "text/plain": [
       "array([0.        , 0.        , 0.15546218, 0.75210084, 0.5       ,\n",
       "       1.        , 0.28571429, 0.91517857, 0.        , 0.        ,\n",
       "       0.26571429, 0.35428571, 0.28571429, 0.21428571, 0.10714286,\n",
       "       0.07142857])"
      ]
     },
     "execution_count": 23,
     "metadata": {},
     "output_type": "execute_result"
    }
   ],
   "source": [
    "cle= np.copy(vecTest[0])\n",
    "cle"
   ]
  },
  {
   "cell_type": "code",
   "execution_count": 44,
   "metadata": {},
   "outputs": [
    {
     "name": "stdout",
     "output_type": "stream",
     "text": [
      "70.74000000000001\n"
     ]
    }
   ],
   "source": [
    "preY6 = np.empty((len(test_y), 10))\n",
    "for i in range((len(test_y))):\n",
    "    preY6[i]=Test4.feedForward(vecTest[i])\n",
    "print(accuracy(getMax(preY6), test_y)) #-4 2"
   ]
  },
  {
   "cell_type": "code",
   "execution_count": 45,
   "metadata": {},
   "outputs": [
    {
     "name": "stdout",
     "output_type": "stream",
     "text": [
      "12.5\n",
      "36.66\n",
      "40.35\n",
      "43.76\n",
      "46.68\n",
      "49.75\n",
      "54.2\n",
      "56.68\n",
      "64.45\n",
      "66.61\n",
      "67.75999999999999\n",
      "68.83\n",
      "69.56\n",
      "70.28\n",
      "70.98\n",
      "71.49\n",
      "71.99\n",
      "72.33000000000001\n",
      "72.59\n",
      "72.56\n"
     ]
    }
   ],
   "source": [
    "Test1 = Network([8, 12, 6], vec[0:10000], train_y[0:10000])\n",
    "Test1.fit(0.03, 200)"
   ]
  },
  {
   "cell_type": "code",
   "execution_count": 46,
   "metadata": {},
   "outputs": [
    {
     "name": "stdout",
     "output_type": "stream",
     "text": [
      "71.50999999999999\n"
     ]
    }
   ],
   "source": [
    "preY1 = np.empty((len(test_y), 10))\n",
    "for i in range((len(test_y))):\n",
    "    preY1[i]=Test1.feedForward(vecTest[i])\n",
    "print(accuracy(getMax(preY1), test_y))"
   ]
  },
  {
   "cell_type": "code",
   "execution_count": 48,
   "metadata": {},
   "outputs": [
    {
     "name": "stdout",
     "output_type": "stream",
     "text": [
      "11.04\n",
      "19.939999999999998\n",
      "27.47\n",
      "33.650000000000006\n",
      "34.03\n",
      "34.47\n",
      "38.96\n",
      "47.56\n",
      "52.349999999999994\n",
      "53.37\n",
      "54.87\n",
      "57.02\n",
      "58.5\n",
      "60.419999999999995\n",
      "62.370000000000005\n",
      "64.03999999999999\n",
      "65.64\n",
      "66.35\n",
      "66.99000000000001\n",
      "67.14\n",
      "66.55\n"
     ]
    }
   ],
   "source": [
    "Test2 = Network([8, 5, 4], vec[0:10000], train_y[0:10000])\n",
    "Test2.fit(0.05, 200)\n",
    "preY2 = np.empty((len(test_y), 10))\n",
    "for i in range((len(test_y))):\n",
    "    preY2[i]=Test2.feedForward(vecTest[i])\n",
    "print(accuracy(getMax(preY2), test_y))"
   ]
  },
  {
   "cell_type": "code",
   "execution_count": 49,
   "metadata": {},
   "outputs": [
    {
     "name": "stdout",
     "output_type": "stream",
     "text": [
      "14.646666666666667\n",
      "34.17333333333333\n",
      "36.77333333333333\n",
      "37.7\n",
      "44.053333333333335\n",
      "46.54333333333333\n",
      "51.57000000000001\n",
      "53.833333333333336\n",
      "55.17999999999999\n",
      "55.943333333333335\n",
      "56.45666666666666\n",
      "56.86333333333333\n",
      "57.9\n",
      "61.21666666666666\n",
      "62.14666666666666\n",
      "63.06\n",
      "64.75666666666666\n",
      "65.61\n",
      "66.23333333333333\n",
      "66.90666666666667\n",
      "69.22\n"
     ]
    }
   ],
   "source": [
    "Test3 = Network([8, 5, 4], vec[0:30000], train_y[0:30000])\n",
    "Test3.fit(0.05, 200)\n",
    "preY3 = np.empty((len(test_y), 10))\n",
    "for i in range((len(test_y))):\n",
    "    preY3[i]=Test3.feedForward(vecTest[i])\n",
    "print(accuracy(getMax(preY3), test_y)) #-4 4"
   ]
  },
  {
   "cell_type": "code",
   "execution_count": 53,
   "metadata": {},
   "outputs": [
    {
     "name": "stdout",
     "output_type": "stream",
     "text": [
      "9.916666666666666\n",
      "14.716666666666667\n",
      "28.746666666666666\n",
      "43.156666666666666\n",
      "48.75\n",
      "55.04333333333334\n",
      "56.81666666666667\n",
      "58.42333333333334\n",
      "59.11\n",
      "61.18666666666667\n",
      "63.81\n"
     ]
    }
   ],
   "source": [
    "Test100 = Network([6, 5, 8], vec[0:30000], train_y[0:30000])\n",
    "Test100.fit(0.01, 100)\n",
    "preY100 = np.empty((len(test_y), 10))\n",
    "for i in range((len(test_y))):\n",
    "    preY100[i]=Test100.feedForward(vecTest[i])\n",
    "print(accuracy(getMax(preY100), test_y)) "
   ]
  },
  {
   "cell_type": "code",
   "execution_count": 55,
   "metadata": {},
   "outputs": [
    {
     "name": "stdout",
     "output_type": "stream",
     "text": [
      "10.37\n",
      "28.736666666666665\n",
      "42.39\n",
      "54.32\n",
      "60.23\n",
      "63.05\n",
      "64.71000000000001\n",
      "66.18\n",
      "67.11666666666667\n",
      "67.84333333333333\n",
      "69.46\n"
     ]
    }
   ],
   "source": [
    "Test10 = Network([6, 5, 8], vec[0:30000], train_y[0:30000])\n",
    "Test10.fit(0.01, 100)\n",
    "preY10 = np.empty((len(test_y), 10))\n",
    "for i in range((len(test_y))):\n",
    "    preY10[i]=Test10.feedForward(vecTest[i])\n",
    "print(accuracy(getMax(preY10), test_y)) #-4, 4"
   ]
  },
  {
   "cell_type": "code",
   "execution_count": 56,
   "metadata": {},
   "outputs": [
    {
     "name": "stdout",
     "output_type": "stream",
     "text": [
      "12.593333333333334\n",
      "55.39333333333334\n",
      "63.00666666666667\n",
      "66.38666666666667\n",
      "67.88666666666666\n",
      "69.51666666666667\n",
      "70.03\n",
      "70.47666666666666\n",
      "70.87333333333333\n",
      "71.26333333333334\n",
      "71.89\n"
     ]
    }
   ],
   "source": [
    "Test10 = Network([6, 5, 8], vec[0:30000], train_y[0:30000])\n",
    "Test10.fit(0.03, 100)\n",
    "preY10 = np.empty((len(test_y), 10))\n",
    "for i in range((len(test_y))):\n",
    "    preY10[i]=Test10.feedForward(vecTest[i])\n",
    "print(accuracy(getMax(preY10), test_y)) #-2 ,2"
   ]
  },
  {
   "cell_type": "code",
   "execution_count": 57,
   "metadata": {},
   "outputs": [
    {
     "name": "stdout",
     "output_type": "stream",
     "text": [
      "16.513333333333332\n",
      "56.50333333333334\n",
      "64.47333333333334\n",
      "72.31666666666666\n",
      "74.93666666666667\n",
      "75.91\n",
      "76.79\n",
      "77.03666666666666\n",
      "77.34333333333333\n",
      "77.67666666666668\n",
      "77.08\n"
     ]
    }
   ],
   "source": [
    "Test10 = Network([6, 15, 8], vec[0:30000], train_y[0:30000])\n",
    "Test10.fit(0.05, 100)\n",
    "preY10 = np.empty((len(test_y), 10))\n",
    "for i in range((len(test_y))):\n",
    "    preY10[i]=Test10.feedForward(vecTest[i])\n",
    "print(accuracy(getMax(preY10), test_y)) #-2, 2 integer"
   ]
  },
  {
   "cell_type": "code",
   "execution_count": 59,
   "metadata": {},
   "outputs": [
    {
     "name": "stdout",
     "output_type": "stream",
     "text": [
      "21.833333333333332\n",
      "68.28\n",
      "74.52333333333333\n",
      "77.46666666666667\n",
      "78.48666666666666\n",
      "78.96333333333332\n",
      "79.4\n",
      "79.67999999999999\n",
      "79.78333333333333\n",
      "79.92666666666666\n",
      "79.75999999999999\n"
     ]
    }
   ],
   "source": [
    "Test10 = Network([6, 15, 8], vec[0:30000], train_y[0:30000])\n",
    "Test10.fit(0.05, 100)\n",
    "preY10 = np.empty((len(test_y), 10))\n",
    "for i in range((len(test_y))):\n",
    "    preY10[i]=Test10.feedForward(vecTest[i])\n",
    "print(accuracy(getMax(preY10), test_y)) #-2, 2 uniform"
   ]
  },
  {
   "cell_type": "code",
   "execution_count": 60,
   "metadata": {},
   "outputs": [
    {
     "name": "stdout",
     "output_type": "stream",
     "text": [
      "19.843333333333334\n",
      "58.13333333333334\n",
      "68.69666666666666\n",
      "71.89\n",
      "73.78333333333333\n",
      "74.95666666666668\n",
      "75.53666666666666\n",
      "75.98666666666666\n",
      "76.22666666666666\n",
      "76.44999999999999\n",
      "76.75999999999999\n"
     ]
    }
   ],
   "source": [
    "Test10 = Network([6, 8], vec[0:30000], train_y[0:30000])\n",
    "Test10.fit(0.04, 100)\n",
    "preY10 = np.empty((len(test_y), 10))\n",
    "for i in range((len(test_y))):\n",
    "    preY10[i]=Test10.feedForward(vecTest[i])\n",
    "print(accuracy(getMax(preY10), test_y)) #-2, 2 uniform"
   ]
  },
  {
   "cell_type": "code",
   "execution_count": 63,
   "metadata": {},
   "outputs": [
    {
     "name": "stdout",
     "output_type": "stream",
     "text": [
      "29.39333333333333\n",
      "66.07499999999999\n",
      "69.695\n",
      "71.72666666666667\n",
      "72.93666666666667\n",
      "73.66666666666667\n",
      "75.07000000000001\n",
      "75.47666666666667\n",
      "75.88333333333334\n",
      "76.26333333333334\n",
      "76.40166666666667\n",
      "76.71666666666667\n",
      "76.96\n",
      "76.98\n",
      "77.00666666666666\n",
      "77.11833333333334\n",
      "77.19500000000001\n",
      "77.24166666666666\n",
      "77.285\n",
      "77.285\n",
      "76.91\n"
     ]
    }
   ],
   "source": [
    "Test10 = Network([6, 4, 8], vec[0:60000], train_y[0:60000])\n",
    "Test10.fit(0.04, 200)\n",
    "preY10 = np.empty((len(test_y), 10))\n",
    "for i in range((len(test_y))):\n",
    "    preY10[i]=Test10.feedForward(vecTest[i])\n",
    "print(accuracy(getMax(preY10), test_y)) #-2, 2 uniform"
   ]
  },
  {
   "cell_type": "code",
   "execution_count": 64,
   "metadata": {},
   "outputs": [
    {
     "name": "stdout",
     "output_type": "stream",
     "text": [
      "20.866666666666667\n",
      "69.31333333333333\n",
      "74.46166666666667\n",
      "76.46166666666666\n",
      "77.46\n",
      "78.095\n",
      "78.44166666666666\n",
      "78.72333333333333\n",
      "78.92333333333333\n",
      "79.08333333333334\n",
      "79.145\n",
      "78.42\n"
     ]
    }
   ],
   "source": [
    "Test10 = Network([6, 14, 8], vec[0:60000], train_y[0:60000])\n",
    "Test10.fit(0.05, 101)\n",
    "preY10 = np.empty((len(test_y), 10))\n",
    "for i in range((len(test_y))):\n",
    "    preY10[i]=Test10.feedForward(vecTest[i])\n",
    "print(accuracy(getMax(preY10), test_y)) #-2, 2 uniform"
   ]
  },
  {
   "cell_type": "code",
   "execution_count": 65,
   "metadata": {},
   "outputs": [
    {
     "name": "stdout",
     "output_type": "stream",
     "text": [
      "17.391666666666666\n",
      "47.58\n",
      "59.67166666666667\n",
      "65.25999999999999\n",
      "68.73\n",
      "72.47666666666667\n",
      "73.94333333333334\n",
      "75.305\n",
      "76.69833333333334\n",
      "77.35\n",
      "77.78166666666667\n",
      "78.14\n"
     ]
    }
   ],
   "source": [
    "Test10 = Network([6, 14, 8], vec[0:60000], train_y[0:60000])\n",
    "Test10.fit(0.01, 101)\n",
    "preY10 = np.empty((len(test_y), 10))\n",
    "for i in range((len(test_y))):\n",
    "    preY10[i]=Test10.feedForward(vecTest[i])\n",
    "print(accuracy(getMax(preY10), test_y)) #-2, 2 uniform"
   ]
  },
  {
   "cell_type": "code",
   "execution_count": 66,
   "metadata": {},
   "outputs": [
    {
     "name": "stdout",
     "output_type": "stream",
     "text": [
      "33.22\n",
      "76.25999999999999\n",
      "78.99333333333334\n",
      "80.47166666666666\n",
      "81.44500000000001\n",
      "82.16166666666666\n",
      "82.55166666666666\n",
      "82.88666666666667\n",
      "83.17\n",
      "83.41666666666666\n",
      "84.09\n",
      "84.66\n"
     ]
    }
   ],
   "source": [
    "Test10 = Network([12], vec[0:60000], train_y[0:60000])\n",
    "Test10.fit(0.05, 101)\n",
    "preY10 = np.empty((len(test_y), 10))\n",
    "for i in range((len(test_y))):\n",
    "    preY10[i]=Test10.feedForward(vecTest[i])\n",
    "print(accuracy(getMax(preY10), test_y)) #-2, 2 uniform"
   ]
  },
  {
   "cell_type": "code",
   "execution_count": 67,
   "metadata": {},
   "outputs": [
    {
     "name": "stdout",
     "output_type": "stream",
     "text": [
      "25.08666666666667\n",
      "77.81666666666666\n",
      "81.62166666666667\n",
      "83.11166666666666\n",
      "83.89333333333333\n",
      "84.88833333333334\n",
      "85.34666666666666\n",
      "85.55666666666667\n",
      "85.79833333333333\n",
      "85.90333333333334\n",
      "86.03333333333333\n",
      "86.125\n",
      "86.265\n",
      "86.48666666666666\n",
      "86.58500000000001\n",
      "86.62166666666667\n",
      "86.73666666666666\n",
      "86.83333333333333\n",
      "86.97166666666666\n",
      "87.03333333333333\n",
      "87.11166666666666\n",
      "86.77\n"
     ]
    }
   ],
   "source": [
    "Test10 = Network([10, 14, 8], vec[0:60000], train_y[0:60000])\n",
    "Test10.fit(0.05, 201)\n",
    "preY10 = np.empty((len(test_y), 10))\n",
    "for i in range((len(test_y))):\n",
    "    preY10[i]=Test10.feedForward(vecTest[i])\n",
    "print(accuracy(getMax(preY10), test_y)) #-2, 2 uniform"
   ]
  },
  {
   "cell_type": "code",
   "execution_count": 74,
   "metadata": {},
   "outputs": [
    {
     "name": "stdout",
     "output_type": "stream",
     "text": [
      "19.066666666666666\n",
      "69.60333333333332\n",
      "76.37333333333333\n",
      "77.75333333333333\n",
      "78.32666666666667\n",
      "78.80666666666667\n",
      "78.93666666666667\n",
      "79.11666666666667\n",
      "79.21666666666667\n",
      "79.36666666666666\n",
      "79.59333333333333\n",
      "79.14\n"
     ]
    }
   ],
   "source": [
    "Test10 = Network([6, 15, 8], vec[0:30000], train_y[0:30000])\n",
    "Test10.fit(0.05, 101)\n",
    "preY10 = np.empty((len(test_y), 10))\n",
    "for i in range((len(test_y))):\n",
    "    preY10[i]=Test10.feedForward(vecTest[i])\n",
    "print(accuracy(getMax(preY10), test_y)) #-3, 3 uniform"
   ]
  },
  {
   "cell_type": "code",
   "execution_count": null,
   "metadata": {},
   "outputs": [],
   "source": [
    "Test10 = Network([6, 15, 8], vec[0:30000], train_y[0:30000])\n",
    "Test10.fit(0.05, 200)\n",
    "preY10 = np.empty((len(test_y), 10))\n",
    "for i in range((len(test_y))):\n",
    "    preY10[i]=Test10.feedForward(vecTest[i])\n",
    "print(accuracy(getMax(preY10), test_y)) #- uniform #run when I'm awake"
   ]
  },
  {
   "cell_type": "code",
   "execution_count": 76,
   "metadata": {},
   "outputs": [
    {
     "name": "stdout",
     "output_type": "stream",
     "text": [
      "15.893333333333334\n",
      "48.156666666666666\n",
      "59.56\n",
      "60.21333333333333\n",
      "60.35666666666667\n",
      "60.42999999999999\n",
      "60.473333333333336\n",
      "60.51333333333333\n",
      "60.56666666666667\n",
      "60.596666666666664\n",
      "60.68666666666667\n",
      "60.66666666666667\n",
      "60.74666666666667\n",
      "60.68666666666667\n",
      "60.633333333333326\n",
      "60.64000000000001\n",
      "60.6\n",
      "60.60333333333333\n",
      "60.633333333333326\n",
      "60.653333333333336\n",
      "60.589999999999996\n"
     ]
    }
   ],
   "source": [
    "Test20= Network([], vec[0:30000], train_y[0:30000])\n",
    "Test20.fit(0.05, 200)\n",
    "preY20 = np.empty((len(test_y), 10))\n",
    "for i in range((len(test_y))):\n",
    "    preY20[i]=Test20.feedForward(vecTest[i])\n",
    "print(accuracy(getMax(preY20), test_y))"
   ]
  },
  {
   "cell_type": "code",
   "execution_count": 77,
   "metadata": {},
   "outputs": [
    {
     "name": "stdout",
     "output_type": "stream",
     "text": [
      "30.793333333333333\n",
      "80.05\n",
      "82.84\n",
      "84.33666666666667\n",
      "85.39666666666666\n",
      "86.63\n",
      "87.37\n",
      "88.07000000000001\n",
      "88.57666666666667\n",
      "88.86666666666667\n",
      "89.05999999999999\n",
      "89.33\n",
      "89.50666666666666\n",
      "89.64999999999999\n",
      "89.80333333333334\n",
      "89.86333333333333\n",
      "89.96\n",
      "90.10666666666667\n",
      "90.21333333333334\n",
      "90.29666666666667\n",
      "90.45666666666666\n",
      "89.72\n"
     ]
    }
   ],
   "source": [
    "Test20= Network([20, 18], vec[0:30000], train_y[0:30000])\n",
    "Test20.fit(0.05, 201)\n",
    "preY20 = np.empty((len(test_y), 10))\n",
    "for i in range((len(test_y))):\n",
    "    preY20[i]=Test20.feedForward(vecTest[i])\n",
    "print(accuracy(getMax(preY20), test_y))"
   ]
  },
  {
   "cell_type": "code",
   "execution_count": 79,
   "metadata": {},
   "outputs": [
    {
     "name": "stdout",
     "output_type": "stream",
     "text": [
      "52.739999999999995\n",
      "84.27166666666666\n",
      "86.62666666666667\n",
      "87.94833333333332\n",
      "88.42999999999999\n",
      "88.76666666666667\n",
      "88.96166666666666\n",
      "89.16\n",
      "89.34166666666667\n",
      "89.60666666666667\n",
      "91.10833333333333\n",
      "91.39333333333333\n",
      "91.50166666666667\n",
      "91.61500000000001\n",
      "91.69666666666667\n",
      "91.80666666666667\n",
      "91.89\n",
      "91.96833333333333\n",
      "92.02666666666667\n",
      "92.07833333333333\n",
      "92.12666666666667\n",
      "92.19833333333334\n",
      "92.27\n",
      "92.36833333333333\n",
      "92.44833333333334\n",
      "92.525\n",
      "92.56666666666666\n",
      "92.625\n",
      "92.64833333333333\n",
      "92.67666666666666\n",
      "92.70833333333334\n",
      "91.97\n"
     ]
    }
   ],
   "source": [
    "Test10 = Network([35, 20], vec[0:60000], train_y[0:60000])\n",
    "Test10.fit(0.05, 301)\n",
    "preY10 = np.empty((len(test_y), 10))\n",
    "for i in range((len(test_y))):\n",
    "    preY10[i]=Test10.feedForward(vecTest[i])\n",
    "print(accuracy(getMax(preY10), test_y)) #-2, 2 uniform"
   ]
  }
 ],
 "metadata": {
  "interpreter": {
   "hash": "02091e4753613aaa25cfbd85ae4eb5d84c414c1685b7c0fac4681c9e872972a3"
  },
  "kernelspec": {
   "display_name": "Python 3.9.5 64-bit",
   "language": "python",
   "name": "python3"
  },
  "language_info": {
   "codemirror_mode": {
    "name": "ipython",
    "version": 3
   },
   "file_extension": ".py",
   "mimetype": "text/x-python",
   "name": "python",
   "nbconvert_exporter": "python",
   "pygments_lexer": "ipython3",
   "version": "3.9.5"
  },
  "orig_nbformat": 4
 },
 "nbformat": 4,
 "nbformat_minor": 2
}
