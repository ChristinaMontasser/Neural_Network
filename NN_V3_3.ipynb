{
 "cells": [
  {
   "cell_type": "code",
   "execution_count": 59,
   "metadata": {},
   "outputs": [],
   "source": [
    "import numpy as np\n",
    "import sys\n",
    "from numpy.core.fromnumeric import shape, size\n",
    "from random import seed\n",
    "from random import random"
   ]
  },
  {
   "cell_type": "code",
   "execution_count": 60,
   "metadata": {},
   "outputs": [],
   "source": [
    "def sigmoid(x):\n",
    "  return 1 / (1 + np.exp(-x))\n",
    "\n",
    "def Loss(Y, Y_predicted):\n",
    "    return(sum(np.square(Y - Y_predicted))/Y.size).sum()"
   ]
  },
  {
   "cell_type": "code",
   "execution_count": 61,
   "metadata": {},
   "outputs": [],
   "source": [
    "def rand(row, column):\n",
    "    returned = np.empty((row, column))\n",
    "    for j in range(row):\n",
    "        rando=[]\n",
    "        for i in range(column):\n",
    "            rando.append(random())\n",
    "            i+=1\n",
    "        returned[j] = rando\n",
    "    return returned"
   ]
  },
  {
   "cell_type": "code",
   "execution_count": 62,
   "metadata": {},
   "outputs": [],
   "source": [
    "class Layer:\n",
    "    nerweight =0\n",
    "    inputs = 0\n",
    "    outputs=[]\n",
    "    delta=0\n",
    "\n",
    "    def __init__(self, neuronNumber,length, weight):\n",
    "        # self.nerweight = weight\n",
    "        self.nerweight =rand(neuronNumber ,length)\n",
    "        self.bais = rand(neuronNumber , 1)\n",
    "\n",
    "    def feedForward(self, inputs):\n",
    "        self.inputs = inputs\n",
    "        self.outputs  = sigmoid(np.dot(np.array(self.nerweight), np.array(self.inputs)))\n",
    "        return self.outputs \n",
    "\n",
    "    \n",
    "    def fit(self, eta, target, outj, sumDelta):\n",
    "        if(size(sumDelta)==0):\n",
    "            # print (\"OU\",self.outputs)\n",
    "            self.delta=(target-self.outputs)*self.outputs*(1-self.outputs)\n",
    "            dw = eta*np.transpose([self.delta])*np.transpose(outj)\n",
    "            self.nerweight = self.nerweight + dw \n",
    "            return np.dot(self.delta, self.nerweight)\n",
    "        else:\n",
    "            self.delta=sumDelta*self.outputs*(1-self.outputs)\n",
    "            \n",
    "            dw = eta*self.delta*np.transpose([outj])\n",
    "            self.nerweight = self.nerweight + dw.reshape(3,2)\n",
    "            \n",
    "            "
   ]
  },
  {
   "cell_type": "code",
   "execution_count": 63,
   "metadata": {},
   "outputs": [
    {
     "name": "stdout",
     "output_type": "stream",
     "text": [
      "hi\n"
     ]
    }
   ],
   "source": [
    "delta = []\n",
    "if(size(delta)==0):\n",
    "    print(\"hi\")\n",
    "else:\n",
    "    print(\"Bye\")"
   ]
  },
  {
   "cell_type": "code",
   "execution_count": 64,
   "metadata": {},
   "outputs": [],
   "source": [
    "class Network:\n",
    "    layers = 0\n",
    "    layernum=0\n",
    "    length=0\n",
    "    orin=0\n",
    "    inputs =0\n",
    "    target =0\n",
    "    def __init__(self, NumNeuron, inputs, target, *argv):\n",
    "        self.layers = []\n",
    "        self.orin = inputs\n",
    "        self.inputs =inputs\n",
    "        self.target = target\n",
    "        length = shape(inputs)[1]\n",
    "        for i in range (len(NumNeuron)):\n",
    "            layer = Layer(NumNeuron[i], length, argv[i])  \n",
    "            length = NumNeuron[i]   \n",
    "            self.layers.append(layer)\n",
    "    def re (self):\n",
    "        print(self.orin[0])\n",
    "        \n",
    "    def feedForward(self, datafeeded):\n",
    "        current = self.inputs[datafeeded]\n",
    "        for i in range(len(self.layers)):\n",
    "            current= self.layers[i].feedForward(current)\n",
    "        return current\n",
    "    \n",
    "    def fit(self, eta, leranRate):\n",
    "        for j in range(leranRate):\n",
    "            now = np.empty((shape(self.target)))\n",
    "            for k in range((shape(self.orin)[0])):\n",
    "                now[k] =self.feedForward(k)\n",
    "                sumdelta = []\n",
    "                for i in range(len(self.layers)-1, 0, -1):\n",
    "                    sumdelta =self.layers[i].fit(eta, self.target[k], self.layers[i-1].outputs, sumdelta)\n",
    "                sumdelta =self.layers[0].fit(eta, self.target[k], self.orin[k], sumdelta)\n",
    "            print(Loss(now, self.target))"
   ]
  },
  {
   "cell_type": "code",
   "execution_count": 65,
   "metadata": {},
   "outputs": [],
   "source": [
    "L1 = np.array([[0.1, 0.4],[0.2, 0.5],[0.3, 0.6]])\n",
    "L2 = np.array([[0.3, 0.4, 0.5], [0.3, 0.4, 0.5]])\n"
   ]
  },
  {
   "cell_type": "code",
   "execution_count": 66,
   "metadata": {},
   "outputs": [
    {
     "data": {
      "text/plain": [
       "array([[7, 4, 2],\n",
       "       [2, 1, 3]])"
      ]
     },
     "execution_count": 66,
     "metadata": {},
     "output_type": "execute_result"
    }
   ],
   "source": [
    "np.array([[7, 4,2],[2, 1,3]])"
   ]
  },
  {
   "cell_type": "code",
   "execution_count": null,
   "metadata": {},
   "outputs": [],
   "source": []
  },
  {
   "cell_type": "code",
   "execution_count": 67,
   "metadata": {},
   "outputs": [
    {
     "data": {
      "text/plain": [
       "array([0.2, 0.5])"
      ]
     },
     "execution_count": 67,
     "metadata": {},
     "output_type": "execute_result"
    }
   ],
   "source": [
    "L1[1]"
   ]
  },
  {
   "cell_type": "code",
   "execution_count": 68,
   "metadata": {},
   "outputs": [],
   "source": [
    "Net = Network([3, 2], np.array([[7, 4],[5, 1], [10, 2]]), np.array([[1, 0],[1, 0], [1, 0]]), L1, L2)\n",
    "#Net.fit(0.1)"
   ]
  },
  {
   "cell_type": "markdown",
   "metadata": {},
   "source": []
  },
  {
   "cell_type": "code",
   "execution_count": 69,
   "metadata": {},
   "outputs": [
    {
     "name": "stdout",
     "output_type": "stream",
     "text": [
      "[7 4]\n"
     ]
    }
   ],
   "source": [
    "Net.re()"
   ]
  },
  {
   "cell_type": "code",
   "execution_count": 70,
   "metadata": {},
   "outputs": [
    {
     "data": {
      "text/plain": [
       "array([[-0.62968324, -0.67043979, -0.68520264],\n",
       "       [ 0.19853501,  0.21138528,  0.21603991]])"
      ]
     },
     "execution_count": 70,
     "metadata": {},
     "output_type": "execute_result"
    }
   ],
   "source": [
    "5*np.dot(np.transpose([[-0.13856291,  0.04368798]]), [[0.90887704, 0.96770454, 0.98901306]])"
   ]
  },
  {
   "cell_type": "code",
   "execution_count": 71,
   "metadata": {},
   "outputs": [],
   "source": [
    "#Loss(Net.feedForward(), [0, 1])"
   ]
  },
  {
   "cell_type": "code",
   "execution_count": 72,
   "metadata": {},
   "outputs": [
    {
     "name": "stdout",
     "output_type": "stream",
     "text": [
      "0.1657029845914338\n",
      "0.00234459705799411\n",
      "0.0016090346324131814\n",
      "0.0012410671647816898\n",
      "0.0010148234905430313\n"
     ]
    }
   ],
   "source": [
    "Net.fit(10,5)\n"
   ]
  },
  {
   "cell_type": "markdown",
   "metadata": {},
   "source": []
  },
  {
   "cell_type": "code",
   "execution_count": 73,
   "metadata": {},
   "outputs": [
    {
     "data": {
      "text/plain": [
       "array([[0.00558716, 0.00200588, 0.00061877]])"
      ]
     },
     "execution_count": 73,
     "metadata": {},
     "output_type": "execute_result"
    }
   ],
   "source": [
    "o=np.array([0.90887704, 0.96770454, 0.98901306])\n",
    "d = np.array([0.06746185, 0.0641831,  0.05694455])\n",
    "np.transpose(d)*[o]*([1-o])"
   ]
  },
  {
   "cell_type": "code",
   "execution_count": 74,
   "metadata": {},
   "outputs": [],
   "source": [
    "Outj = np.array([0.76])\n",
    "target = np.array([0])\n",
    "eta = 5\n",
    "Outi = np.array([0.909, 0.96, 0.989])\n"
   ]
  },
  {
   "cell_type": "code",
   "execution_count": 75,
   "metadata": {},
   "outputs": [
    {
     "name": "stdout",
     "output_type": "stream",
     "text": [
      "[-0.138624]\n",
      "[-0.63004608 -0.6653952  -0.68549568]\n"
     ]
    }
   ],
   "source": [
    "delta=(target-Outj)*Outj*(1-Outj)\n",
    "print(delta)\n",
    "dw = eta*delta*Outi\n",
    "print(dw)\n"
   ]
  },
  {
   "cell_type": "code",
   "execution_count": 76,
   "metadata": {},
   "outputs": [],
   "source": [
    "l=np.array([[1,2,5],[5, 0.2, 3]])"
   ]
  }
 ],
 "metadata": {
  "interpreter": {
   "hash": "02091e4753613aaa25cfbd85ae4eb5d84c414c1685b7c0fac4681c9e872972a3"
  },
  "kernelspec": {
   "display_name": "Python 3.9.5 64-bit",
   "language": "python",
   "name": "python3"
  },
  "language_info": {
   "codemirror_mode": {
    "name": "ipython",
    "version": 3
   },
   "file_extension": ".py",
   "mimetype": "text/x-python",
   "name": "python",
   "nbconvert_exporter": "python",
   "pygments_lexer": "ipython3",
   "version": "3.9.5"
  },
  "orig_nbformat": 4
 },
 "nbformat": 4,
 "nbformat_minor": 2
}
