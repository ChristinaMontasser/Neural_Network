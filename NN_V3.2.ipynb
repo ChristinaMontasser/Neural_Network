{
 "cells": [
  {
   "cell_type": "code",
   "execution_count": 1,
   "metadata": {},
   "outputs": [],
   "source": [
    "import numpy as np\n",
    "import sys\n",
    "from numpy.core.fromnumeric import shape, size\n",
    "from random import seed\n",
    "from random import random"
   ]
  },
  {
   "cell_type": "code",
   "execution_count": 2,
   "metadata": {},
   "outputs": [],
   "source": [
    "def sigmoid(x):\n",
    "  return 1 / (1 + np.exp(-x))\n",
    "\n",
    "def Loss(Y, Y_predicted):\n",
    "    return(sum(np.square(Y - Y_predicted))/Y.size)"
   ]
  },
  {
   "cell_type": "code",
   "execution_count": 3,
   "metadata": {},
   "outputs": [],
   "source": [
    "def rand(row, column):\n",
    "    returned = np.empty((row, column))\n",
    "    for j in range(row):\n",
    "        rando=[]\n",
    "        for i in range(column):\n",
    "            rando.append(random())\n",
    "            i+=1\n",
    "        returned[j] = rando\n",
    "    return returned"
   ]
  },
  {
   "cell_type": "code",
   "execution_count": 4,
   "metadata": {},
   "outputs": [],
   "source": [
    "class Layer:\n",
    "    nerweight =0\n",
    "    inputs = 0\n",
    "    outputs=[]\n",
    "    delta=0\n",
    "\n",
    "    def __init__(self, neuronNumber,length, weight):\n",
    "        #self.nerweight = weight\n",
    "        self.nerweight =rand(neuronNumber ,length)\n",
    "        self.bais = rand(neuronNumber , 1)\n",
    "\n",
    "    def feedForward(self, inputs):\n",
    "        self.inputs = inputs\n",
    "        self.outputs  = sigmoid(np.dot(np.array(self.nerweight), np.array(self.inputs)))\n",
    "        return self.outputs \n",
    "\n",
    "    \n",
    "    def fit(self, eta, target, outj, sumDelta):\n",
    "        if(size(sumDelta)==0):\n",
    "            self.delta=(target-self.outputs)*self.outputs*(1-self.outputs)\n",
    "            dw = eta*np.transpose([self.delta])*np.transpose(outj)\n",
    "            self.nerweight = self.nerweight + dw \n",
    "            return np.dot(self.delta, self.nerweight)\n",
    "        else:\n",
    "            self.delta=sumDelta*self.outputs*(1-self.outputs)\n",
    "            \n",
    "            dw = eta*self.delta*np.transpose([outj])\n",
    "            self.nerweight = self.nerweight + dw.reshape(3,2)\n",
    "            \n",
    "            "
   ]
  },
  {
   "cell_type": "code",
   "execution_count": 5,
   "metadata": {},
   "outputs": [
    {
     "name": "stdout",
     "output_type": "stream",
     "text": [
      "hi\n"
     ]
    }
   ],
   "source": [
    "delta = []\n",
    "if(size(delta)==0):\n",
    "    print(\"hi\")\n",
    "else:\n",
    "    print(\"Bye\")"
   ]
  },
  {
   "cell_type": "code",
   "execution_count": 6,
   "metadata": {},
   "outputs": [],
   "source": [
    "class Network:\n",
    "    layers = 0\n",
    "    layernum=0\n",
    "    length=0\n",
    "    orin=0\n",
    "    inputs =0\n",
    "    target =0\n",
    "    def __init__(self, NumNeuron, inputs, target, *argv):\n",
    "        self.layers = []\n",
    "        self.orin = inputs\n",
    "        self.inputs =inputs\n",
    "        self.target = target\n",
    "        length = len(inputs)\n",
    "        for i in range (len(NumNeuron)):\n",
    "            layer = Layer(NumNeuron[i], length, argv[i])  \n",
    "            length = NumNeuron[i]   \n",
    "            self.layers.append(layer)\n",
    "    \n",
    "    def feedForward(self):\n",
    "        for i in range(len(self.layers)):\n",
    "            self.inputs = self.layers[i].feedForward(self.inputs)\n",
    "        return self.inputs\n",
    "    \n",
    "    def fit(self, eta, leranRate):\n",
    "        for j in range(leranRate):\n",
    "            sumdelta = []\n",
    "            for i in range(len(self.layers)-1, 0, -1):\n",
    "                sumdelta =self.layers[i].fit(eta, self.target, self.layers[i-1].outputs, sumdelta)\n",
    "            sumdelta =self.layers[0].fit(eta, self.target, self.orin, sumdelta)\n"
   ]
  },
  {
   "cell_type": "code",
   "execution_count": 7,
   "metadata": {},
   "outputs": [],
   "source": [
    "L1 =np.array([[0.1, 0.4],[0.2, 0.5],[0.3, 0.6]])\n",
    "L2 = np.array([[0.3, 0.4, 0.5], [0.3, 0.4, 0.5]])\n"
   ]
  },
  {
   "cell_type": "code",
   "execution_count": 8,
   "metadata": {},
   "outputs": [
    {
     "data": {
      "text/plain": [
       "array([0.2, 0.5])"
      ]
     },
     "execution_count": 8,
     "metadata": {},
     "output_type": "execute_result"
    }
   ],
   "source": [
    "L1[1]"
   ]
  },
  {
   "cell_type": "code",
   "execution_count": 9,
   "metadata": {},
   "outputs": [],
   "source": [
    "Net = Network([3, 2], np.array([7,4]), [0, 1], L1, L2)\n",
    "#Net.fit(0.1)"
   ]
  },
  {
   "cell_type": "markdown",
   "metadata": {},
   "source": []
  },
  {
   "cell_type": "code",
   "execution_count": 10,
   "metadata": {},
   "outputs": [
    {
     "data": {
      "text/plain": [
       "array([[-0.62968324, -0.67043979, -0.68520264],\n",
       "       [ 0.19853501,  0.21138528,  0.21603991]])"
      ]
     },
     "execution_count": 10,
     "metadata": {},
     "output_type": "execute_result"
    }
   ],
   "source": [
    "5*np.dot(np.transpose([[-0.13856291,  0.04368798]]), [[0.90887704, 0.96770454, 0.98901306]])"
   ]
  },
  {
   "cell_type": "code",
   "execution_count": 11,
   "metadata": {},
   "outputs": [
    {
     "data": {
      "text/plain": [
       "0.3414024466672704"
      ]
     },
     "execution_count": 11,
     "metadata": {},
     "output_type": "execute_result"
    }
   ],
   "source": [
    "Loss(Net.feedForward(), [0, 1])"
   ]
  },
  {
   "cell_type": "code",
   "execution_count": 12,
   "metadata": {},
   "outputs": [
    {
     "name": "stdout",
     "output_type": "stream",
     "text": [
      "0.12034038443514282\n",
      "0.04291471724508582\n",
      "0.024477115667830382\n"
     ]
    }
   ],
   "source": [
    "Net.fit(5,1)\n",
    "print(Loss(Net.feedForward(), [0, 1]))\n",
    "Net.fit(5,1)\n",
    "print(Loss(Net.feedForward(), [0, 1]))\n",
    "Net.fit(5,1)\n",
    "print(Loss(Net.feedForward(), [0, 1]))"
   ]
  },
  {
   "cell_type": "code",
   "execution_count": 13,
   "metadata": {},
   "outputs": [
    {
     "data": {
      "text/plain": [
       "array([[0.00558716, 0.00200588, 0.00061877]])"
      ]
     },
     "execution_count": 13,
     "metadata": {},
     "output_type": "execute_result"
    }
   ],
   "source": [
    "o=np.array([0.90887704, 0.96770454, 0.98901306])\n",
    "d = np.array([0.06746185, 0.0641831,  0.05694455])\n",
    "np.transpose(d)*[o]*([1-o])"
   ]
  },
  {
   "cell_type": "code",
   "execution_count": 14,
   "metadata": {},
   "outputs": [],
   "source": [
    "Outj = np.array([0.76])\n",
    "target = np.array([0])\n",
    "eta = 5\n",
    "Outi = np.array([0.909, 0.96, 0.989])\n"
   ]
  },
  {
   "cell_type": "code",
   "execution_count": 15,
   "metadata": {},
   "outputs": [
    {
     "name": "stdout",
     "output_type": "stream",
     "text": [
      "[-0.138624]\n",
      "[-0.63004608 -0.6653952  -0.68549568]\n"
     ]
    }
   ],
   "source": [
    "delta=(target-Outj)*Outj*(1-Outj)\n",
    "print(delta)\n",
    "dw = eta*delta*Outi\n",
    "print(dw)\n"
   ]
  },
  {
   "cell_type": "code",
   "execution_count": 16,
   "metadata": {},
   "outputs": [],
   "source": [
    "l=np.array([[1,2,5],[5, 0.2, 3]])"
   ]
  }
 ],
 "metadata": {
  "interpreter": {
   "hash": "02091e4753613aaa25cfbd85ae4eb5d84c414c1685b7c0fac4681c9e872972a3"
  },
  "kernelspec": {
   "display_name": "Python 3.9.5 64-bit",
   "language": "python",
   "name": "python3"
  },
  "language_info": {
   "codemirror_mode": {
    "name": "ipython",
    "version": 3
   },
   "file_extension": ".py",
   "mimetype": "text/x-python",
   "name": "python",
   "nbconvert_exporter": "python",
   "pygments_lexer": "ipython3",
   "version": "3.9.5"
  },
  "orig_nbformat": 4
 },
 "nbformat": 4,
 "nbformat_minor": 2
}
