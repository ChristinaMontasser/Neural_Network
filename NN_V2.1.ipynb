{
 "cells": [
  {
   "cell_type": "code",
   "execution_count": 1,
   "metadata": {},
   "outputs": [],
   "source": [
    "import numpy as np\n",
    "import sys\n",
    "from numpy.core.fromnumeric import shape, size\n",
    "from random import seed\n",
    "from random import random"
   ]
  },
  {
   "cell_type": "code",
   "execution_count": 2,
   "metadata": {},
   "outputs": [],
   "source": [
    "def sigmoid(x):\n",
    "  return 1 / (1 + np.exp(-x))\n",
    "\n",
    "def Loss(Y, Y_predicted):\n",
    "    return(sum(np.square(Y - Y_predicted))/Y.size)"
   ]
  },
  {
   "cell_type": "code",
   "execution_count": 3,
   "metadata": {},
   "outputs": [],
   "source": [
    "def rand(size):\n",
    "    rando=[]\n",
    "    for i in range(size):\n",
    "        rando.append(random())\n",
    "        i+=1\n",
    "    return rando"
   ]
  },
  {
   "cell_type": "code",
   "execution_count": 4,
   "metadata": {},
   "outputs": [],
   "source": [
    "class Neroun:\n",
    "    Outj=0\n",
    "    Net=0\n",
    "    weight=0\n",
    "    bais=0\n",
    "    delta=0\n",
    "    def __init__(self, length, argv):\n",
    "        print(argv)\n",
    "        self.weight = np.array(argv)\n",
    "        print(\"H\", self.weight)\n",
    "        # self.weight =rand(length)\n",
    "        # self.bais = rand(1)\n",
    "\n",
    "    def feedForward(self, inputs):\n",
    "        print(\"H\", inputs)\n",
    "        self.Net= np.dot(np.array([self.weight]), np.transpose(np.array([inputs])))\n",
    "\n",
    "        #print(self.Net)\n",
    "        self.Outj = sigmoid(self.Net)\n",
    "        return self.Outj\n",
    "        \n",
    "    def fit(self, eta, target, Outi):\n",
    "        print(eta, target, Outi)\n",
    "        self.delta=(target-self.Outj)*self.Outj*(1-self.Outj)\n",
    "        print(\"I'm delta\", self.delta)\n",
    "        dw = eta*self.delta*Outi\n",
    "        self.weight = self.weight + dw \n",
    "        print(dw)"
   ]
  },
  {
   "cell_type": "code",
   "execution_count": 5,
   "metadata": {},
   "outputs": [],
   "source": [
    "class Layer:\n",
    "    neurons =0\n",
    "    output=0\n",
    "    delta=0\n",
    "    outputs=0\n",
    "    def __init__(self, neuronNumber,length, weight):\n",
    "        self.neurons = []\n",
    "        for i in range(neuronNumber):\n",
    "            neuron = Neroun(length, weight[i])\n",
    "            self.neurons.append(neuron)\n",
    "    \n",
    "    def feedForward(self, inputs):\n",
    "        self.inputs = inputs\n",
    "        self.outputs =[]\n",
    "        for i in range(len(self.neurons)):\n",
    "            self.outputs.append(self.neurons[i].feedForward(inputs))\n",
    "        return self.outputs\n",
    "    \n",
    "    def fit(self, eta, target, outj):\n",
    "        # #self.neurons[len(self.neurons)-1].fit(eta, target, self.neurons[len(self.neurons)-2].Outj)\n",
    "        # for i in range(len(self.neurons)-2, -1, -1):\n",
    "        #     self.neurons[i].fit(eta, target,  self.neurons[len(self.neurons)-2].Outj)\n",
    "        for i in range(len(self.neurons)):\n",
    "           self.neurons[i].fit(eta, target[i], outj)\n",
    "        \n"
   ]
  },
  {
   "cell_type": "code",
   "execution_count": 6,
   "metadata": {},
   "outputs": [],
   "source": [
    "class Network:\n",
    "    layers = 0\n",
    "    layernum=0\n",
    "    length=0\n",
    "    inputs =0\n",
    "    target =0\n",
    "    def __init__(self, NumNeuron, inputs, target, *argv):\n",
    "        self.layers = []\n",
    "        self.inputs =inputs\n",
    "        self.target = target\n",
    "        length = len(inputs)\n",
    "        for i in range (len(NumNeuron)):\n",
    "            layer = Layer(NumNeuron[i], length, argv[i])  \n",
    "            length = NumNeuron[i]   \n",
    "            self.layers.append(layer)\n",
    "    \n",
    "    def feedForward(self):\n",
    "        for i in range(len(self.layers)):\n",
    "            self.inputs = self.layers[i].feedForward(self.inputs)\n",
    "        return self.inputs\n",
    "    \n",
    "    def fit(self, eta):\n",
    "        #delta=self.layers[len(self.layers)-1].fitFinal()\n",
    "        #for i in range(len(self.layers)-1, -1, -1):\n",
    "            self.layers[1].fit(eta, self.target, self.layers[0].outputs)\n",
    "\n"
   ]
  },
  {
   "cell_type": "code",
   "execution_count": 7,
   "metadata": {},
   "outputs": [],
   "source": [
    "L1=np.array([[0.1, 0.4],[0.2, 0.5],[0.3, 0.6]])\n",
    "L2 = np.array([[0.3, 0.4, 0.5], [0.3, 0.4, 0.5]])\n"
   ]
  },
  {
   "cell_type": "code",
   "execution_count": 8,
   "metadata": {},
   "outputs": [
    {
     "data": {
      "text/plain": [
       "array([0.2, 0.5])"
      ]
     },
     "execution_count": 8,
     "metadata": {},
     "output_type": "execute_result"
    }
   ],
   "source": [
    "L1[1]"
   ]
  },
  {
   "cell_type": "code",
   "execution_count": 9,
   "metadata": {},
   "outputs": [
    {
     "name": "stdout",
     "output_type": "stream",
     "text": [
      "[0.1 0.4]\n",
      "H [0.1 0.4]\n",
      "[0.2 0.5]\n",
      "H [0.2 0.5]\n",
      "[0.3 0.6]\n",
      "H [0.3 0.6]\n",
      "[0.3 0.4 0.5]\n",
      "H [0.3 0.4 0.5]\n",
      "[0.3 0.4 0.5]\n",
      "H [0.3 0.4 0.5]\n"
     ]
    }
   ],
   "source": [
    "Net = Network([3, 2], np.array([7, 4]), [0, 1], L1, L2)\n",
    "#Net.fit(0.1)"
   ]
  },
  {
   "cell_type": "code",
   "execution_count": 10,
   "metadata": {},
   "outputs": [
    {
     "name": "stdout",
     "output_type": "stream",
     "text": [
      "H [7 4]\n",
      "H [7 4]\n",
      "H [7 4]\n",
      "H [array([[0.90887704]]), array([[0.96770454]]), array([[0.98901306]])]\n",
      "H [array([[0.90887704]]), array([[0.96770454]]), array([[0.98901306]])]\n"
     ]
    },
    {
     "data": {
      "text/plain": [
       "[array([[[[0.76028661]]]]), array([[[[0.76028661]]]])]"
      ]
     },
     "execution_count": 10,
     "metadata": {},
     "output_type": "execute_result"
    }
   ],
   "source": [
    "Net.feedForward()"
   ]
  },
  {
   "cell_type": "code",
   "execution_count": 11,
   "metadata": {},
   "outputs": [
    {
     "data": {
      "text/plain": [
       "3"
      ]
     },
     "execution_count": 11,
     "metadata": {},
     "output_type": "execute_result"
    }
   ],
   "source": [
    "len([3, 5,2])"
   ]
  },
  {
   "cell_type": "code",
   "execution_count": 12,
   "metadata": {},
   "outputs": [],
   "source": [
    "flmf=np.array([1])"
   ]
  },
  {
   "cell_type": "code",
   "execution_count": 13,
   "metadata": {},
   "outputs": [
    {
     "name": "stdout",
     "output_type": "stream",
     "text": [
      "5 0 [array([[0.90887704]]), array([[0.96770454]]), array([[0.98901306]])]\n",
      "I'm delta [[[[-0.13856291]]]]\n",
      "[[[[-0.62968321]]\n",
      "\n",
      "  [[-0.67043976]]\n",
      "\n",
      "  [[-0.68520261]]]]\n",
      "5 1 [array([[0.90887704]]), array([[0.96770454]]), array([[0.98901306]])]\n",
      "I'm delta [[[[0.04368798]]]]\n",
      "[[[[0.198535  ]]\n",
      "\n",
      "  [[0.21138527]]\n",
      "\n",
      "  [[0.2160399 ]]]]\n"
     ]
    }
   ],
   "source": [
    "Net.fit(5)"
   ]
  },
  {
   "cell_type": "code",
   "execution_count": 14,
   "metadata": {},
   "outputs": [],
   "source": [
    "Outj = np.array([0.76])\n",
    "target = np.array([0])\n",
    "eta = 5\n",
    "Outi = np.array([0.909, 0.96, 0.989])\n"
   ]
  },
  {
   "cell_type": "code",
   "execution_count": 15,
   "metadata": {},
   "outputs": [
    {
     "name": "stdout",
     "output_type": "stream",
     "text": [
      "[-0.138624]\n",
      "[-0.63004608 -0.6653952  -0.68549568]\n"
     ]
    }
   ],
   "source": [
    "delta=(target-Outj)*Outj*(1-Outj)\n",
    "print(delta)\n",
    "dw = eta*delta*Outi\n",
    "print(dw)\n"
   ]
  }
 ],
 "metadata": {
  "interpreter": {
   "hash": "02091e4753613aaa25cfbd85ae4eb5d84c414c1685b7c0fac4681c9e872972a3"
  },
  "kernelspec": {
   "display_name": "Python 3.9.5 64-bit",
   "language": "python",
   "name": "python3"
  },
  "language_info": {
   "codemirror_mode": {
    "name": "ipython",
    "version": 3
   },
   "file_extension": ".py",
   "mimetype": "text/x-python",
   "name": "python",
   "nbconvert_exporter": "python",
   "pygments_lexer": "ipython3",
   "version": "3.9.5"
  },
  "orig_nbformat": 4
 },
 "nbformat": 4,
 "nbformat_minor": 2
}
