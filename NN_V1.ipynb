{
 "cells": [
  {
   "cell_type": "code",
   "execution_count": 1,
   "metadata": {},
   "outputs": [],
   "source": [
    "import numpy as np\n",
    "import sys\n",
    "from numpy.core.fromnumeric import shape, size\n",
    "from random import seed\n",
    "from random import random"
   ]
  },
  {
   "cell_type": "code",
   "execution_count": 2,
   "metadata": {},
   "outputs": [],
   "source": [
    "def sigmoid(x):\n",
    "  # Our activation function: f(x) = 1 / (1 + e^(-x))\n",
    "  return 1 / (1 + np.exp(-x))\n",
    "\n",
    "def Loss(Y, Y_predicted):\n",
    "    return(sum(np.square(Y - Y_predicted))/Y.size)"
   ]
  },
  {
   "cell_type": "code",
   "execution_count": 3,
   "metadata": {},
   "outputs": [],
   "source": [
    "def rand(size):\n",
    "    rando=[]\n",
    "    for i in range(size):\n",
    "        rando.append(random())\n",
    "        i+=1\n",
    "    return rando"
   ]
  },
  {
   "cell_type": "code",
   "execution_count": 25,
   "metadata": {},
   "outputs": [],
   "source": [
    "class Neroun:\n",
    "    Out=0\n",
    "    Net=0\n",
    "    weight=0\n",
    "    bais=0\n",
    "    def __init__(self, length):\n",
    "        print(length)\n",
    "        self.weight =rand(length)\n",
    "        self.bais = rand(1)\n",
    "\n",
    "    def feedForward(self, inputs):\n",
    "        self.Net= np.dot(np.array([self.weight]), np.transpose(np.array([inputs])))+self.bais\n",
    "        print(self.Net)\n",
    "        self.Out = sigmoid(self.Net)\n",
    "        return self.Out \n",
    "        \n",
    "\n"
   ]
  },
  {
   "cell_type": "code",
   "execution_count": 5,
   "metadata": {},
   "outputs": [],
   "source": [
    "class Layer:\n",
    "    neurons =0\n",
    "    output=0\n",
    "    delta=0\n",
    "    def __init__(self, neuronNumber,length):\n",
    "        self.neurons = []\n",
    "        for i in range(neuronNumber):\n",
    "            neuron = Neroun(length)\n",
    "            self.neurons.append(neuron)\n",
    "    \n",
    "    def feedForward(self, inputs):\n",
    "        outputs =[]\n",
    "        for i in range(len(self.neurons)):\n",
    "            outputs.append(self.neurons[i].feedForward(inputs))\n",
    "        return outputs\n"
   ]
  },
  {
   "cell_type": "code",
   "execution_count": 6,
   "metadata": {},
   "outputs": [],
   "source": [
    "class Network:\n",
    "    layers = 0\n",
    "    layernum=0\n",
    "    length=0\n",
    "    def __init__(self, layerNmber, NumNeuron, length):\n",
    "        self.layers = []\n",
    "        for i in range (layerNmber):\n",
    "            layer = Layer(NumNeuron[i], length)  \n",
    "            length = NumNeuron[i]   \n",
    "            self.layers.append(layer)\n",
    "    \n",
    "    def feedForward(self, inputs):\n",
    "        for i in range(len(self.layers)):\n",
    "            inputs = self.layers[i].feedForward(inputs)\n",
    "        return inputs\n"
   ]
  },
  {
   "cell_type": "code",
   "execution_count": 7,
   "metadata": {},
   "outputs": [
    {
     "name": "stdout",
     "output_type": "stream",
     "text": [
      "3\n",
      "3\n",
      "2\n",
      "2\n",
      "2\n",
      "3\n",
      "3\n"
     ]
    }
   ],
   "source": [
    "Ne = Network(3, [2, 3, 2], 3)"
   ]
  },
  {
   "cell_type": "code",
   "execution_count": 8,
   "metadata": {},
   "outputs": [
    {
     "name": "stdout",
     "output_type": "stream",
     "text": [
      "[0.8574250499177885, 0.0005381808286526457, 0.6861165300377393]\n"
     ]
    }
   ],
   "source": [
    "print(Ne.layers[0].neurons[0].weight)\n",
    "\n"
   ]
  },
  {
   "cell_type": "code",
   "execution_count": 9,
   "metadata": {},
   "outputs": [
    {
     "name": "stdout",
     "output_type": "stream",
     "text": [
      "[0.07593157121933214, 0.7372037783381323]\n"
     ]
    }
   ],
   "source": [
    "print(Ne.layers[1].neurons[0].weight)"
   ]
  },
  {
   "cell_type": "code",
   "execution_count": 10,
   "metadata": {},
   "outputs": [
    {
     "name": "stdout",
     "output_type": "stream",
     "text": [
      "[0.8509302820784624, 0.3614877500970004, 0.47418259241316385]\n"
     ]
    }
   ],
   "source": [
    "print(Ne.layers[2].neurons[0].weight)"
   ]
  },
  {
   "cell_type": "code",
   "execution_count": 24,
   "metadata": {},
   "outputs": [
    {
     "name": "stdout",
     "output_type": "stream",
     "text": [
      "[0.8574250499177885, 0.0005381808286526457, 0.6861165300377393]\n",
      "[0.06206169799893324, 0.3625445748702094, 0.9224976280768732]\n",
      "[0.07593157121933214, 0.7372037783381323]\n",
      "[0.20311574982098368, 0.3879994818357003]\n",
      "[0.42507195687228627, 0.49667353692725]\n",
      "[0.8509302820784624, 0.3614877500970004, 0.47418259241316385]\n",
      "[0.9100527387664562, 0.00934678151431012, 0.7460079838603515]\n"
     ]
    }
   ],
   "source": [
    "print(Ne.layers[0].neurons[0].weight)\n",
    "print(Ne.layers[0].neurons[1].weight)\n",
    "print(Ne.layers[1].neurons[0].weight)\n",
    "print(Ne.layers[1].neurons[1].weight)\n",
    "print(Ne.layers[1].neurons[2].weight)\n",
    "print(Ne.layers[2].neurons[0].weight)\n",
    "print(Ne.layers[2].neurons[1].weight)"
   ]
  },
  {
   "cell_type": "code",
   "execution_count": 54,
   "metadata": {},
   "outputs": [
    {
     "name": "stdout",
     "output_type": "stream",
     "text": [
      "[0.41497159243470183]\n",
      "[0.339492479274098]\n",
      "[0.7221050151121574]\n",
      "[0.938374927729999]\n",
      "[0.14121279900701433]\n",
      "[0.1282062635217307]\n",
      "[0.1993699638989268]\n"
     ]
    }
   ],
   "source": [
    "print(Ne.layers[0].neurons[0].bais)\n",
    "print(Ne.layers[0].neurons[1].bais)\n",
    "print(Ne.layers[1].neurons[0].bais)\n",
    "print(Ne.layers[1].neurons[1].bais)\n",
    "print(Ne.layers[1].neurons[2].bais)\n",
    "print(Ne.layers[2].neurons[0].bais)\n",
    "print(Ne.layers[2].neurons[1].bais)\n"
   ]
  },
  {
   "cell_type": "code",
   "execution_count": 28,
   "metadata": {},
   "outputs": [
    {
     "name": "stdout",
     "output_type": "stream",
     "text": [
      "[array([[[[[[0.79910813]]]]]]), array([[[[[[0.80253389]]]]]])]\n"
     ]
    }
   ],
   "source": [
    "print(Ne.feedForward([0, 0, 0]))"
   ]
  },
  {
   "cell_type": "code",
   "execution_count": null,
   "metadata": {},
   "outputs": [],
   "source": [
    "\n",
    "\n",
    "\n",
    "# generate random integer values\n",
    "from numpy.random import seed\n",
    "from numpy.random import randint"
   ]
  },
  {
   "cell_type": "code",
   "execution_count": null,
   "metadata": {},
   "outputs": [],
   "source": []
  },
  {
   "cell_type": "code",
   "execution_count": null,
   "metadata": {},
   "outputs": [
    {
     "name": "stdout",
     "output_type": "stream",
     "text": [
      "[0.7398985747399307, 0.922324996665417, 0.029005228283614737, 0.46562265437810535, 0.9433567169983137, 0.6489745531369242, 0.9009004917506227, 0.11320596465314436, 0.46906904778216374, 0.24657283261983032]\n"
     ]
    }
   ],
   "source": [
    "num = rand(10)\n",
    "print(num)"
   ]
  },
  {
   "cell_type": "code",
   "execution_count": 49,
   "metadata": {},
   "outputs": [
    {
     "data": {
      "text/plain": [
       "array([[0.76824245]])"
      ]
     },
     "execution_count": 49,
     "metadata": {},
     "output_type": "execute_result"
    }
   ],
   "source": [
    "weight = [0.07593157121933214, 0.7372037783381323]\n",
    "inputs = [0.6022793721906061, 0.5840672348179832]\n",
    "\n",
    "sigmoid(np.dot(np.array([weight]), np.transpose(np.array([inputs])))+0.7221050151121574)"
   ]
  },
  {
   "cell_type": "code",
   "execution_count": 48,
   "metadata": {},
   "outputs": [
    {
     "data": {
      "text/plain": [
       "0.5840672348179832"
      ]
     },
     "execution_count": 48,
     "metadata": {},
     "output_type": "execute_result"
    }
   ],
   "source": [
    "out = sigmoid(0.339492479274098)\n",
    "out"
   ]
  },
  {
   "cell_type": "code",
   "execution_count": 47,
   "metadata": {},
   "outputs": [
    {
     "data": {
      "text/plain": [
       "array([[0.7836941]])"
      ]
     },
     "execution_count": 47,
     "metadata": {},
     "output_type": "execute_result"
    }
   ],
   "source": [
    "weight = [0.20311574982098368, 0.3879994818357003]\n",
    "inputs = [0.6022793721906061, 0.5840672348179832]\n",
    "\n",
    "sigmoid(np.dot(np.array([weight]), np.transpose(np.array([inputs])))+0.938374927729999)"
   ]
  },
  {
   "cell_type": "code",
   "execution_count": 46,
   "metadata": {},
   "outputs": [
    {
     "data": {
      "text/plain": [
       "array([[0.6653695]])"
      ]
     },
     "execution_count": 46,
     "metadata": {},
     "output_type": "execute_result"
    }
   ],
   "source": [
    "weight = [0.42507195687228627, 0.49667353692725]\n",
    "inputs = [0.6022793721906061, 0.5840672348179832]\n",
    "\n",
    "sigmoid(np.dot(np.array([weight]), np.transpose(np.array([inputs])))+0.14121279900701433)"
   ]
  },
  {
   "cell_type": "code",
   "execution_count": 53,
   "metadata": {},
   "outputs": [
    {
     "data": {
      "text/plain": [
       "array([[0.79910813]])"
      ]
     },
     "execution_count": 53,
     "metadata": {},
     "output_type": "execute_result"
    }
   ],
   "source": []
  },
  {
   "cell_type": "code",
   "execution_count": 56,
   "metadata": {},
   "outputs": [
    {
     "data": {
      "text/plain": [
       "array([[0.79910813]])"
      ]
     },
     "execution_count": 56,
     "metadata": {},
     "output_type": "execute_result"
    }
   ],
   "source": [
    "\n",
    "weight = [0.8509302820784624, 0.3614877500970004, 0.47418259241316385]\n",
    "inputs = [0.76824245, 0.7836941, 0.6653695]\n",
    "\n",
    "sigmoid(np.dot(np.array([weight]), np.transpose(np.array([inputs])))+0.1282062635217307)"
   ]
  },
  {
   "cell_type": "code",
   "execution_count": 55,
   "metadata": {},
   "outputs": [
    {
     "data": {
      "text/plain": [
       "array([[0.80253389]])"
      ]
     },
     "execution_count": 55,
     "metadata": {},
     "output_type": "execute_result"
    }
   ],
   "source": [
    "\n",
    "weight = [0.9100527387664562, 0.00934678151431012, 0.7460079838603515]\n",
    "inputs = [0.76824245, 0.7836941, 0.6653695]\n",
    "\n",
    "sigmoid(np.dot(np.array([weight]), np.transpose(np.array([inputs])))+0.1993699638989268)"
   ]
  },
  {
   "cell_type": "markdown",
   "metadata": {},
   "source": []
  },
  {
   "cell_type": "code",
   "execution_count": null,
   "metadata": {},
   "outputs": [
    {
     "name": "stdout",
     "output_type": "stream",
     "text": [
      "(2,)\n",
      "[[1]\n",
      " [5]]\n"
     ]
    }
   ],
   "source": [
    "a = [1, 5]\n",
    "\n",
    "print(shape(a))\n",
    "print()"
   ]
  }
 ],
 "metadata": {
  "interpreter": {
   "hash": "02091e4753613aaa25cfbd85ae4eb5d84c414c1685b7c0fac4681c9e872972a3"
  },
  "kernelspec": {
   "display_name": "Python 3.9.5 64-bit",
   "language": "python",
   "name": "python3"
  },
  "language_info": {
   "codemirror_mode": {
    "name": "ipython",
    "version": 3
   },
   "file_extension": ".py",
   "mimetype": "text/x-python",
   "name": "python",
   "nbconvert_exporter": "python",
   "pygments_lexer": "ipython3",
   "version": "3.9.5"
  },
  "orig_nbformat": 4
 },
 "nbformat": 4,
 "nbformat_minor": 2
}
